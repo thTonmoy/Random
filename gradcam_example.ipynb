{
  "nbformat": 4,
  "nbformat_minor": 0,
  "metadata": {
    "colab": {
      "name": "gradcam-example.ipynb",
      "provenance": [],
      "authorship_tag": "ABX9TyOfDd3Dn+3dLYm9HdQ1E6qa",
      "include_colab_link": true
    },
    "kernelspec": {
      "name": "python3",
      "display_name": "Python 3"
    },
    "widgets": {
      "application/vnd.jupyter.widget-state+json": {
        "1437c12757174d1991eb67d72230d092": {
          "model_module": "@jupyter-widgets/controls",
          "model_name": "HBoxModel",
          "state": {
            "_view_name": "HBoxView",
            "_dom_classes": [],
            "_model_name": "HBoxModel",
            "_view_module": "@jupyter-widgets/controls",
            "_model_module_version": "1.5.0",
            "_view_count": null,
            "_view_module_version": "1.5.0",
            "box_style": "",
            "layout": "IPY_MODEL_67d4ded5289f493ab74df5d152a7ed87",
            "_model_module": "@jupyter-widgets/controls",
            "children": [
              "IPY_MODEL_b95399ad7756462ab32b38d9ff70ff12",
              "IPY_MODEL_8218deb481254d8f87b6c7984822b84a"
            ]
          }
        },
        "67d4ded5289f493ab74df5d152a7ed87": {
          "model_module": "@jupyter-widgets/base",
          "model_name": "LayoutModel",
          "state": {
            "_view_name": "LayoutView",
            "grid_template_rows": null,
            "right": null,
            "justify_content": null,
            "_view_module": "@jupyter-widgets/base",
            "overflow": null,
            "_model_module_version": "1.2.0",
            "_view_count": null,
            "flex_flow": null,
            "width": null,
            "min_width": null,
            "border": null,
            "align_items": null,
            "bottom": null,
            "_model_module": "@jupyter-widgets/base",
            "top": null,
            "grid_column": null,
            "overflow_y": null,
            "overflow_x": null,
            "grid_auto_flow": null,
            "grid_area": null,
            "grid_template_columns": null,
            "flex": null,
            "_model_name": "LayoutModel",
            "justify_items": null,
            "grid_row": null,
            "max_height": null,
            "align_content": null,
            "visibility": null,
            "align_self": null,
            "height": null,
            "min_height": null,
            "padding": null,
            "grid_auto_rows": null,
            "grid_gap": null,
            "max_width": null,
            "order": null,
            "_view_module_version": "1.2.0",
            "grid_template_areas": null,
            "object_position": null,
            "object_fit": null,
            "grid_auto_columns": null,
            "margin": null,
            "display": null,
            "left": null
          }
        },
        "b95399ad7756462ab32b38d9ff70ff12": {
          "model_module": "@jupyter-widgets/controls",
          "model_name": "FloatProgressModel",
          "state": {
            "_view_name": "ProgressView",
            "style": "IPY_MODEL_0070c86dab404f569b5bdc2ab54023ee",
            "_dom_classes": [],
            "description": "100%",
            "_model_name": "FloatProgressModel",
            "bar_style": "success",
            "max": 574673361,
            "_view_module": "@jupyter-widgets/controls",
            "_model_module_version": "1.5.0",
            "value": 574673361,
            "_view_count": null,
            "_view_module_version": "1.5.0",
            "orientation": "horizontal",
            "min": 0,
            "description_tooltip": null,
            "_model_module": "@jupyter-widgets/controls",
            "layout": "IPY_MODEL_84edc65d0f6b4fb98314afd08dd2b44e"
          }
        },
        "8218deb481254d8f87b6c7984822b84a": {
          "model_module": "@jupyter-widgets/controls",
          "model_name": "HTMLModel",
          "state": {
            "_view_name": "HTMLView",
            "style": "IPY_MODEL_29769be9020e470998ec9f7edf002d98",
            "_dom_classes": [],
            "description": "",
            "_model_name": "HTMLModel",
            "placeholder": "​",
            "_view_module": "@jupyter-widgets/controls",
            "_model_module_version": "1.5.0",
            "value": " 548M/548M [00:21&lt;00:00, 27.3MB/s]",
            "_view_count": null,
            "_view_module_version": "1.5.0",
            "description_tooltip": null,
            "_model_module": "@jupyter-widgets/controls",
            "layout": "IPY_MODEL_f84f8090c2c84579be4c76c59d2a8085"
          }
        },
        "0070c86dab404f569b5bdc2ab54023ee": {
          "model_module": "@jupyter-widgets/controls",
          "model_name": "ProgressStyleModel",
          "state": {
            "_view_name": "StyleView",
            "_model_name": "ProgressStyleModel",
            "description_width": "initial",
            "_view_module": "@jupyter-widgets/base",
            "_model_module_version": "1.5.0",
            "_view_count": null,
            "_view_module_version": "1.2.0",
            "bar_color": null,
            "_model_module": "@jupyter-widgets/controls"
          }
        },
        "84edc65d0f6b4fb98314afd08dd2b44e": {
          "model_module": "@jupyter-widgets/base",
          "model_name": "LayoutModel",
          "state": {
            "_view_name": "LayoutView",
            "grid_template_rows": null,
            "right": null,
            "justify_content": null,
            "_view_module": "@jupyter-widgets/base",
            "overflow": null,
            "_model_module_version": "1.2.0",
            "_view_count": null,
            "flex_flow": null,
            "width": null,
            "min_width": null,
            "border": null,
            "align_items": null,
            "bottom": null,
            "_model_module": "@jupyter-widgets/base",
            "top": null,
            "grid_column": null,
            "overflow_y": null,
            "overflow_x": null,
            "grid_auto_flow": null,
            "grid_area": null,
            "grid_template_columns": null,
            "flex": null,
            "_model_name": "LayoutModel",
            "justify_items": null,
            "grid_row": null,
            "max_height": null,
            "align_content": null,
            "visibility": null,
            "align_self": null,
            "height": null,
            "min_height": null,
            "padding": null,
            "grid_auto_rows": null,
            "grid_gap": null,
            "max_width": null,
            "order": null,
            "_view_module_version": "1.2.0",
            "grid_template_areas": null,
            "object_position": null,
            "object_fit": null,
            "grid_auto_columns": null,
            "margin": null,
            "display": null,
            "left": null
          }
        },
        "29769be9020e470998ec9f7edf002d98": {
          "model_module": "@jupyter-widgets/controls",
          "model_name": "DescriptionStyleModel",
          "state": {
            "_view_name": "StyleView",
            "_model_name": "DescriptionStyleModel",
            "description_width": "",
            "_view_module": "@jupyter-widgets/base",
            "_model_module_version": "1.5.0",
            "_view_count": null,
            "_view_module_version": "1.2.0",
            "_model_module": "@jupyter-widgets/controls"
          }
        },
        "f84f8090c2c84579be4c76c59d2a8085": {
          "model_module": "@jupyter-widgets/base",
          "model_name": "LayoutModel",
          "state": {
            "_view_name": "LayoutView",
            "grid_template_rows": null,
            "right": null,
            "justify_content": null,
            "_view_module": "@jupyter-widgets/base",
            "overflow": null,
            "_model_module_version": "1.2.0",
            "_view_count": null,
            "flex_flow": null,
            "width": null,
            "min_width": null,
            "border": null,
            "align_items": null,
            "bottom": null,
            "_model_module": "@jupyter-widgets/base",
            "top": null,
            "grid_column": null,
            "overflow_y": null,
            "overflow_x": null,
            "grid_auto_flow": null,
            "grid_area": null,
            "grid_template_columns": null,
            "flex": null,
            "_model_name": "LayoutModel",
            "justify_items": null,
            "grid_row": null,
            "max_height": null,
            "align_content": null,
            "visibility": null,
            "align_self": null,
            "height": null,
            "min_height": null,
            "padding": null,
            "grid_auto_rows": null,
            "grid_gap": null,
            "max_width": null,
            "order": null,
            "_view_module_version": "1.2.0",
            "grid_template_areas": null,
            "object_position": null,
            "object_fit": null,
            "grid_auto_columns": null,
            "margin": null,
            "display": null,
            "left": null
          }
        }
      }
    }
  },
  "cells": [
    {
      "cell_type": "markdown",
      "metadata": {
        "id": "view-in-github",
        "colab_type": "text"
      },
      "source": [
        "<a href=\"https://colab.research.google.com/github/thTonmoy/Random/blob/master/gradcam_example.ipynb\" target=\"_parent\"><img src=\"https://colab.research.google.com/assets/colab-badge.svg\" alt=\"Open In Colab\"/></a>"
      ]
    },
    {
      "cell_type": "markdown",
      "metadata": {
        "id": "BSexnf4ziRBM",
        "colab_type": "text"
      },
      "source": [
        "![image.png](data:image/png;base64,iVBORw0KGgoAAAANSUhEUgAAAsAAAADyCAYAAABDAnNgAAAgAElEQVR4Aey9B1RU1/fHO3cKIDawK3YjUWMBAUXEMoKiP0XFqElsscbYu0k00WjsvcWOxprYFUt89tgVl2CjPECEhyAuQBbCgvnP3PV967YpMMCgMk7idi1kZrhz7j6fs++537PPPufKQP+IABEgAkSACBABIkAEiMAnRED2CdWVqkoEiAARIAJEgAgQASJABEACmJyACBABIkAEiAARIAJE4JMiQAL4k2puqiwRIAJEgAgQASJABIgACWDyASJABIgAESACRIAIEIFPigAJ4E+quamyRIAIEAEiQASIABEgAiSAyQeIABEgAkSACBABIkAEPikCJIA/qeamyhIBIkAEiAARIAJEgAiQACYfIAJEgAgQASJABIgAEfikCJAA/qSamypLBIgAESACRIAIEAEiQAKYfIAIEAEiQASIABEgAkTgkyJAAviTam6qLBEgAkSACBABIkAEiAAJYPIBIkAEiAARIAJEgAgQgU+KAAngT6q5qbJEgAgQASJABIgAESACJIDJB4gAESACRIAIEAEiQAQ+KQIkgD+p5qbKEgEiQASIABEgAkSACJAAJh8gAkSACBABIkAEiAAR+KQIkAD+pJqbKksEiAARIAJEgAgQASJAAph8gAgQASJABIgAESACROCTIkAC+JNqbqosESACRIAIEAEiQASIQKkI4B49esDLy4t+iAH5APkA+QD5APkA+QD5APmAxT6Qk5NjFXVeKgJ48eLF+OGHH+iHGJAPkA+QD5APkA+QD5APkA9Y7AMajebfK4CtYjmdhAgQASJABIgAESACRIAIvAOBUokAv4Md9BUiQASIABEgAkSACBABImAVAiSArYKZTkIEiAARIAJEgAgQASJgKwRIANtKS5AdRIAIEAEiQASIABEgAlYhQALYKpjpJESACBABIkAEiAARIAK2QoAEsK20BNlBBIgAESACRIAIEAEiYBUCJICtgplOQgSIABEgAkSACBABImArBEgA20pLkB1EgAgQASJABIgAESACViFAAtgqmOkkRIAIEAEiQASIABEgArZCgASwrbQE2UEEiAARIAJEgAgQASJgFQIkgK2CmU5CBIgAESACRIAIEAEiYCsESADbSkuQHUSACBABIkAEiAARIAJWIUAC2CqY6SREgAgQASJABIgAESACtkKABLCttATZQQSIABEgAkSACBABImAVAiSArYKZTkIEiAARIAJEgAgQASJgKwRIANtKS5AdRIAIEAEiQASIABEgAlYhQALYKpjpJESACBABIkAEiAARIAK2QoAEsK20BNlBBIgAESACRIAIEAEiYBUCJICtgplOQgSIABEgAkSACBABImArBEgA20pLkB1EgAgQASJABIgAESACViFAAtgqmOkkRIAIEAEiQASIABEgArZCgASwrbQE2UEEiAARIAJEgAgQASJgFQIkgK2CmU5CBIgAESACRIAIEAEiYCsESADbSkuQHUSACBABIkAEiAARIAJWIUAC2CqY6SREgAgQASJABIgAESACtkKABLCttATZQQSIABEgAkSACBABImAVAiSArYKZTkIEiAARIAJEgAgQASJgKwRIANtKS5AdRIAIEAEiQASIABEgAlYhQALYKpjpJESACBABIkAEiAARIAK2QoAEsK20BNlBBIgAESACRIAIEAEiYBUCJICtgplOQgSIABEgAkSACBABImArBEgA20pLkB1EgAgQASJABIgAESACViFAAtgqmOkkRIAIEAEiQASIABEgArZCgASwrbQE2UEEiAARIAJEgAgQASJgFQIkgK2CmU5CBIgAESACRIAIEAEiYCsESADbSkuQHUSACBABIkAEiAARIAJWIUAC2CqY6SREgAgQASJABIgAESACtkKABLCttATZQQSIABEgAkSACBABImAVAiSArYKZTkIEiAARIAJEgAgQASJgKwRIANtKS5AdRIAIEAEiQASIABEgAlYhQALYKpjpJESACBABIkAEiAARIAK2QoAEsK20BNlBBIgAESACRIAIEAEiYBUCJICtgplOQgSIABEgAkSACBABImArBEgA20pLkB1EgAgQASJABIgAESACViFAAtgqmOkkRIAIEAEiQASIABEgArZCgASwrbQE2UEEiAARIAJEgAgQASJgFQIkgK2CmU5CBIgAESACRIAIEAEiYCsESADbSkuQHUSACBABIkAEiAARIAJWIUAC2CqY6SREgAgQASJABIgAESACtkKABLCttATZQQSIABEgAkSACBABImAVAiSArYKZTkIEiAARIAJEgAgQASJgKwRIANtKS5AdRIAIEAEiQASIABEgAlYhQALYKpjpJESACBABIkAEiAARIAK2QoAEsK20BNlBBIgAESACRIAIEAEiYBUCJICtgplOQgSIABEgAkSACBABImArBEgA20pLkB1EgAgQASJABIgAESACViFAAtgqmOkkRIAIEAEiQASIABEgArZCgASwrbQE2UEEiAARIAJEgAgQASJgFQIkgK2CmU5CBIgAESACRIAIEAEiYCsESADbSkuQHUSACBABIkAEiAARIAJWIUAC2CqY6SREgAgQASJABIgAESACtkKABLCttATZQQSIABEgAkSACBABImAVAiSArYKZTkIEiAARIAJEgAgQASJgKwSsJIDzkBJ2GlsXTsd3336FAd+MxPjZSxB8/hnStADYRJxYtg33NdbDwqY9wLHgHdixQ/rZhZDHWe9mQHYC7hzdgHmTR2PowAEYNGoi5qzcj2uxmdAB0EYdxIoDkfxr8yfQ4fnBH/HbuXSw5g8AoEPsxd3YqbdXsDv4RBgyCv8SwKbg9qFgo3py39uJP2++LOJc5o3QxV7E7p0SL9PfwSce6u3QxV3GH8bH7fwTt16yYF9ewspxQzD8x7149Nb8Oaz2qS4WF3fvNHDZdQ6RuYWcPf+x+drA4EMik5378U8C1/Kl9y9/W+w6F4nCzC89K96xZPYlLq0chyHDf8Tej+4IxdVBh9R7+7Boygh8PeAbjJy8EHtuJ8OKXVVxBhbx9zxE/r3L4ONGfrtz527sO3QS5/55hKTsojqQIoq38p90Cf9gv0m/sht/R+YUsEIbcwG7jOq6Q+x/Chz4L/6ATbmDQ0b3r+BTj5D5L64PmU4EPgaBUhfAmrgTmNuzMcrJHdAg8FccuRePtLQXCLsYjNnd6sOpRkuoOzeBc+VBOGbNO3huMh5f/gPfty4DRiaDTKZC+xWxRYhUc82TjSf7JqNzHQfIy3+BQStPIzwpHalx93Fm80T41qqI2h5d0L6RExpP+afwm6b2AX5upUJZ9TrEFaqbWKQ9u4xDK79GE3sGMt5mGRjHjlgVU+iXoLk/By1URsc7fIFhG07gZmxmiQUwmxqO40uD0NCoPJnSFYM2heBaeJJegLHpkbh+OhiTvStCUd4do34/j8jMtzg1vDrknN2MPbyXRJSQtTn+7/EZm4awXcPgKtXFrhu2pBZSHpuGiCuHsCSoEVQM5yvcjwI11VOwavNWbN64Bkt/mYKh/p/DScFAJq+OEadL15nZtDDsGuaqt8eu2xYUZn4htbLOx+wr3L0YijQjjZVzajiqyzmGDOy9lyCicPe1jo2FnkWHFwe+QX0VA7lTd2yMeol9/ZwgV9XFsKM2STtfTXR49egsdkz1RRWet8C8TNMBmLduI1b/OglBrapAZV8FX/xvEjZdTQIXj7DVf+zrO9g89AuU1V+DDOwaj8KJFCPn4uIpr5/g7z/mopuLAvKqHTF95yVEZZoeY0kd2Vd3cTE0rcT9pCVlv/cxb2NwaooHyogsVN5LEW2z19F715YKIAKlQqBUBXBu2Hr8z0UFRiaHU5e1eJY/bMJm4PaSLqgql0HubGUBzOPU4PqUz6B8JwH8Btd/9UVlTvAoXDBgf2KBjlKX8jdmeFSAXKbEZ0UI4JxL49FAIQOjaoE5ofkh5Wt37VMs9KqGys4KQbgzKnzxw91CxHUWznzng+ZNOBsE4WbXaQ1elPxeYDCCTcPhQTX15clU7bDMbM+bhysTXeE+N1S0LQdnRtWCghfADmi/POrjCmCuRrlnMLKmXBC0RQlgsfba0DlorhI4ypgy6Ls328CFf6VF/KFhaGRX+gJYMH8kaorCxjYFsBbRW3uiltvPeGikrHLOjEIthSDGHNovR5St3rg1NzHdVcn7h6r1fDx+ewrfVuX8RYG64y7la3sbfptzBF87SYNgJZr9cM/QX+TFYO/XDfiBFKOqjo4/X0Tq+/QPpY1B9xzBfcSBNN+nyVHFfy0e5+U/sRaPf/VArW9P6Qfm+Y8o8r02Glt71oLbzw9tdlCguTkdrkqhPyIBXGRr0h+JgFkCpSeAMy9hSjN7QaQpG2HS1UIiYmwqTo5oANVHEsA3prm+gwBmkXxkKOopuZsKAzuPBXhidIM3Jq2L247AqqoiBHAGDn9TTRSUCtQZdRZFZgfoYrC8U1uMndRJHwlRuIzEaTPZG2zyLvT3+xnLBlXRC1b7/+3EG2MD3+F13u2ZaCJ2vDJGBfd5YQVvEnk3ML1VF6w1Cmmzr65j8+zxmLToGMzMXL6DJe/5lbxzGO2isFwAP1kAD70AdkTQ/oLTr2CTsfV/DTGylCPAXM3zzo2GCy8kZbBFAfzm2o/wKMdA1cpUAIN9heubZ2P8pEU4ZhOOYN6P2MT1UNuJAsPrNzzTpOHK4q/gHzASmx+YaXvzxXz8T3NPYhgv3Lm6KPHFj/dMrlf29REMlq4DeWX4r39m8vePXwFjC7R4ssAD9koxACAOqL+YdN5kloH7xuutPdBo7AUU0MbGxZl9/QbXfvRAOUaFVrYsgG/PxOckgM22IH1IBCwhUEoCWIunS9vBUZyeUdQZiwtF9ELsy93o23iIZSkQOl2hkUNWk4tcrQXhC1YL4TAN3kkA597CzKZcZJu7oajgZk4A6unrELGiE1oUEgFmk7aih5MScpGV3LkPdueb0tMXxb3gBXA7LLixDwOkm5rcCYHByfki0DpELu+KwE1RODbUSAD3DDYvgC3AprdDF4UVvlLqiAyKhhNwOZ8eyD43Bl/03onkEpUrtYv+TO/9okif+IAC+M3hSZgRwg3yWCRuH41ZRTl8SWul1ZgVJBYJYFaD3FxtPt8o3gCdrriwLAtNbq54HRUsL/PuMvhVE0RKAQFc8HCzn7DaD2+3rgRlah/PR2txwKPiBHBxSLhaFNU/leDcEhCt1tzImoXWkn5OKqQYAQzk4drkRmIgQAZ5tQE4+MrchauDRlM8BJ1GU2gfLZlk/FurMVdH4yOMX3MCuC08Rv+C/nWVYh8sA6OogcBtUSbXyettRQtg83Zm4u4yP1TjZvZkpSuA39e/Ne8qgHUfvp81biF6TQT+LQRKRwBrH2BuS5WYK8nAvutmmO1P9ZQ0iPnnBuKlvjXzKpYE+aK1uxvc3Nzg3uFHXHz9AJuHuqOqnQKODXpjwyNBUbMZodg5JRDt2/sjMLAbPOo4wbm+J/pM34UH+VaH5UT+hdl926CRsx0UjnWgnnUUhyaXPAKce/F71BUjbzK5MwYdzaf+9PUSX7x9in/upZgRITpELFVDPfMndK0gTlEyXHpAEQvmRAG88GkWLk9oKKQUyBg4tFtqmkuZdxMzfQfhz7QcnChKAGsjETzoCzjZl0fjoI0IKyRQb1olFq/2BKGSlFcor4ZvDqcbHZKBQ4Oa4ZtDGeJnGtxb1x8dPdz59nRz88SIPUkiDxYZdzdhRIcmaOKhRtcuPvDu3AdBvu0x+XIeNHfX4kvf1nB343zBHW2nnUEu3uLGmsHwbyOV54H/LTFM61rsEx9MAGfj3Jim+OqvfH7ApuPivF5oK/oxZ3/rTl9i9l+RSLm4HMMC2sKdq1P32Tj1/0XiwIRuaCMd69EPay8ex2y/BiivZKAoWxttBq/ANaMLqVABzGYgdOcUBLZvD//AQHTzqAMn5/rw7DMdux5kiNx1iD4wHt2MGH65PhRP9k+GulFFqBT2cG7sh2mHo40iaCwyQndiSmB7tPcPRGA3D9RxckZ9zz6YvuuBfhGk9slaqCuJqSUyLk+9Jpq4ucHj6614cnsd+nf0ENvTDZ4j9iDJWGtlR+LovEFQe/vAP7A7vJu4ok3/n3EkQko3eQe72Qzc3TQCHZo0gYe6K7r4eKNznyD4tp+My4UMzN8cHQfPJjX1g3h5WRc0dXNHu5l/I68E/ROKrY8G9zd+A7X+2vDCmIOxuPv7SLSrWw5KRoGydTti6tF4aNnXuL7ya7hXt4dcWQ61PAZj/Z2iFs6Kl1+xAhjIPjbYkCfMVECfP9L013NeXAjmD2yDxk180MO/NRo37YJxwWEwmXTKi0PI/IFo07gJfHr4o3XjpugyLhhh4kG66AOY0K2Nvt09+q3FxeOz4degvFDH2m0weMW1Yu4TnEmCAPaaF470G3PhWV5K7ZCBKdsas68Z5rfMCuAi7dTiyVq1oV+TMXCs2QRubh74ems0NHEH8F2n1mIf5gZ3T3+MPxiDVxcWIshX+twdrTsGYdahSMQcmYlAH3e4t+2FJTfFjrVYfwAyry7hy5P6vA4/XsTrB5sx1L0q7BSOaNB7A7jbnzkBrHmwHWP7doQH14+4e6BT0HQc5FPUiu5n9Y1NL4jAJ0SgVAQwm7AWne2kjkmOqu+Sh5W+H/2chJsoU6EDvgxsgpqVHcQRv5DHBl0sNgdUglxRF9+dF8QHm7IX/apw35PD2X89IkVRzSb9hcH1uKgtA1WjgVh39hKOrx4Or6pimobFi+C0CJvnBhUf/ZVBpvwcM28Vk7dbmENp7mB2m17YmpiGI4MMeW3Kz2fgViE3ZikCvPCpDtpHv8JD4qx0xfQbhi+9OT4c7SZeQg5yixTAmn+m4DMpnaEki7eyz2NsPTF9QMagfMAWJIhChk3ZiT5fjME5SbPw9c/C8aFSHVXwXRnHR4nY5AMYUEMOVYsfcY83X4uXZ6fAvXwDTODVCYvU7T3ExR4MygTtg9DSWjz8uZXYDgrUn3BZEGol8Al8EAGsw6vLP8K7YkUMyC+AuXprY7Ctl5TiwqCc/yYxB5vLUfREnR5r8EBSEtxiSGngqKiKxm0DMeuP8zi3fTia8Qsf5ajgvRCh4r3UvADWIXZzACrJFaj73XmBFZuCvf2EWQC5sz/WSxcFNLj/U3M9Q5c2avj1nYrfFoyEp3Ttle2AlWKSri52MwIqyaGo+x2Ey41Fyt5+gnCSO8N/vThwy05GRMgkNBOjp8rPx+PE42eIeP6ab6Os40PFRXAyqHxXGhZ+Zt/HMnUVKBg7eC54xOep5oXORSsVA0UVNZbdlwYYJbGbRfKBAaghV6HFj/cEH9G+xNkp7ijfYEKhAph9k4AnJ8YbpphbTMPZJxGITBIXj1rSP1lcnxycH1tXHMyq4Nq+Gzr0moD584bArbzQB8qdOmDUd70QMHIelv7Qk1+Yx6VfKet/jwsm15mZzsYCAWwc7eZynOtPuMKzYhMPYlB9FRhlU8y4xTleFkJGuEChqIGg3fFCpJdNxMFB9aFilGg64xafc5sVMgIuCgVqBO3WBza0D35GS9EnFFUbo23gLPxx/hy2D28Ge24GTF4B3gtDi8nZNQhgLXSI290PLny0lpuNY6Cs3R97nwudfgEBbIGd2ckRCJnUTLwmlPh8/Ak8fhaB56+5zolFUnBvvUBWeS0SZwV0eL62s9hHyVFzFDdI5/5x6yCaot1vj4TItMX+AKTv7wcncaFohQ5fIrBJTVR2EO+pymb44Z7GrADmzpp7fSo+r9gUQ7eGIl3qk4vtZ834DX1EBP7jBEpFAGvuzEJTSVRxC0a+vyjceEoCM+8CxtYWBRZTDp1WRiAv9RJ+8q0KByc3TD//BkjfgR68MGDgFLQHfMxCF4FFbcTos8obS/mbd44hWsqUR2DwazEKloOzo130Nx7LdoHIw1lpMRcnglVumBdekik8A4S3Z8fA7auDvN25VycZhKiiJoYdN0QyDN8wpEBwAhhsArYEVBAHBXLUHHpMSG9gE7E1sCPm8SuPihbAurgN8BOjKEyZtlj02NK6cAMBd/0uBIy9F357yn2Xuxn4wW36jXxtrsH1qY31+daSAE4L7sXnMivqDsMxfXQzB5cmqvkIMFf33CPfwIlPETEWwCwS16thxw9EjASwxT7BJ9G+Rw6wAtW/8EXbL2qhrJyBjClvXgBzRJ5vRy9+UCaDTFEbgw69RPbDFejeYQrOG2+PwCZgbWc7YeZEXhn9D0hRuHTs6Su2s9wJfXan8C5hXgCnY0cPYVDHOAVhj3BRIGJRG/GmroL3UmkBog5xK33Fz+WoPuAAhOybbBz9ppKQN844oMd2wY70HT0EocI4IUgoGLqIRWgjpQl4L9UvaDMWVPlTIDTXp6KxlLuoF8AahM5zF8rnBpW3xUFl3lVMasj1AwwcPBdAuNRKYncagnuVBcP1Q8OOGSKMOZcwUV14BJgDrH34M1pJdcufAlFs/5RagvqYDuYajDkHYe7kDXb3dtSnWnnOfyQIK+1j/Npa7OOUTTH7bjEDcAsEMJu4Tp/vzLF2+uowcpCFs6Pr8P2jvOq3OMWrOhbxqzvwPqNsOgt3NEDW2dGow82IyaviW+EgsPGr0YFjp2yKWdxBnHzkAyNCTrW8cn8Y3HsP+oozYHKnYlLAjCLAQk+VgauzW+vXQ3CBjwre83HnLYv8AtgyO7V4PL+1/lopkAOc/Te+qyvcl5gyaqwTxbbWaH2AquXPeMAZp32MBV2+xG6+XyuJfwN5F8aitjjLyJTrhJUReUi99BN8qzrAyW06uNufuQiw7sVhjGrbCT9cTDWZcbSkn+Ubif4jAp8QgdIRwHd/QDMjAewy+pypGMrLQHJSIhITzfwkpYHfltL4BqNqjxWxUn4ENw4X/2kfYY1/ddjZVUfnJfeFc3ApAj6SAG6BuVxPxJVVRxTTKi8s0ifzFZYDzCL7dVI++5KQ+pazIQ/nv6stimZOAHM7N1gqGiXD+b16sG9AC4wKEZe8cZ2lh514s2NQoftWJOoravQ9fQqEwOPNsSGoIaYiMBW6Y0siC+3jhegYsB5C31y0AOamFF9e24p5s3/G75cSDKvDjU5Z2Ev2xe/opp+CVMJ12g3kaZ9gYbs2ZgYF5gQwi9RtAXCQxG2Dbpi2/QaSuGBLbhayxPt6iQSwpT7BVeq9IsBl0GdXCpIjrmDHRG9UVhQugPk9nPmorHjzr9oa3m16YLWYxqPnayyAFQ0w8aoU0dfh6UJPvVB1+uoQ/xXzAliLR2v8Ud3ODtU7L8F9vggdYpb76G/qLeY+EHMljYWkEp/PvC22Pxe5aiD6uB06r03grzntozXwr24Hu+qdsUQoGLqY5fCRRGKLucKNn7/3G+XP5lsEZ1YA513CeGlGwc4Pm6TkcTYeqztIYq8xpt3gnKIEdrOp2BYgzhwxZdCg2zRsv5HE9xW5WVlF+rvFAthc/1Si+hgLYBW8fnsm5tBy125lcQGrPQJ3i1MFbCLWqcWBkqK+OFOi96KCLywRwAlr0Ulc8MdFgGuNOou8nNMYUUOIQCtdZ0Ca6HoT3BP2/ODfG0ujs3B6RA3BRqUrZhgOQk97YY2E99Jo3iZjAaxoMBEG936KhZ5iG8ud8NWhopYBG0eAxapqo7G9d00oxHUU3MLchsMO4fEW4xzgHAvtLEYAQ4M7s5sKA3nGDl6/PQWXqR6/sRuc7YWcZMZOCLxo7s2B+tujQlCiRP5gKoBV7VfAcPsz3BTyC+CIuMMY1bQSOq6KzpeDbVk/W9Bx6BMi8N8mUCoCmE3aALV+r1oGFQceEqetBZi62BCs+GEsejd30u9OwEUd7Ot2xLBZu/GAizQYC2A7P/xexMIwlgU0qeE4ufEHDAnwRP0KQqfNiVNOALMv1hg6d7uu2KLf56cQAcwmYYN0g5FSHcQUCe7m++w3SYxwEb16GHdJEiqWO4sufgO6tpyEy2+14Ba6aLUaxG3wRzmxE2fsPLHAXDQ2nwAGt9uCuFWTjJ86vo8Lk7wwcL8U5S5OAFtuc8EjM3B0sHjzk8mgqPUtjlyajdbqlSi4NbE5AQywSfvQv6bRim4u765hD8wNidcvaCmRABaNLM4n+MPeSwAb7QLBJmDb/2pjoLkUCAmaLgob/CV/Z1DBf5M4QJEO4ENkhgiwiQBmkbzJT4x2y8DdELl/5gWwWJ4AAOEnN+KHIQHwrC9thaeCJQL4qhkBLJTMgoUGqeEnsfGHIQjwrI8K4gBM9R4CWB8x5K43+54IliZA2FfY3FUUezI7+G1KLlIAF7SbRdK+/qipnybn9qF2RMMecxESX/TA1WIBbKZ/Kll9ihLA0gJWUwG8XuqfPpAA1obPg5s4kOEEJDdLoIlbCV/xM0ZVFa4eHvDgf8ScfI/uWHwrEit9RfHKqFDVVTrGQ1zD4YHui+/yrlOoAGaTsclPamNhP3bRi838MiOAuUsn7SKmtjAszJXJneDh9TnqS7tA6OIstLM4AQzoni1CGzH1jI+C5zzBb35BWDC3ozCYZ8rAb2MMLk7qjPEXxNQ8KSJukX+bCmA7v9/FmRlTHMYCWNm4C7q7cvXn0mKG4Wi++6Ul/axp6fSOCPz3CZSKAIb2EeZLU3QyGbhcKXOb3WuMI8XyShj4l9GzbCwUwGzqLWwa0xF1HB3h2n8Nrr4IN0qBEAQwN03rJXXu9j2wQ1qbhXcRwIDx/osyxgEB20ynm4p3Gy0e/eqJKnWaoXnz5kY/jVG9jJQ7rUSjiVcK5sPlF8DgFtJ5i1FUGRS1m6OF2/f4W58XWJoCGMi7YdiLUiYvhwaNGqPnNmmBmzEJ8wKYOyIrbDtGtq4MpRTB4RZO2TfBlMtCxKukAtgSn+At+1ACGCxerO2FwUYCOPPBaVzWr+oUOGgfL4CnlLMtr4GgPUJkVU+p0Agwt6VTgBB1466nDv9fQMMAACAASURBVKtE8wvZBo1Nxa1NY9CxjiMcXftjzdUXCDdKgXh3Acwi9dYmjOlYB46Orui/5ipehBulQLyHANZFL0M7SWw59IVhi2UhpUN4+IgdOq15UUIBzKHKQtj2kWhd2bBrAD/gbjIFoovpm8D4xfsI4JLV5+ML4OzDX4k5p9x+5G6YF6aFLmoJ2kptUiYQu6VBiTEkXRSWtJUEcBkEmj1I+EKhAhivsTXAXlw0rUKHVc+Nz5DvtXkBzB2kifgdPaqJwQ8+cKFAbb0AttTO4gUw2BfY5F9OmK1T1MeYZZPRafgxpMeuRkc+T5dBxR7fYqB6NqRMnpL5Q8kFsLxKZwzqyeVhc1F3BWoa5V5LAIvrZ6Xj6DcR+FQIlI4A5h7bu8EPFaRoZvme2JlvRMoBNu5gZYqGmHTNKJfNAgHMpv2Nyc2FHDll0xm4yQ22dRFYrM8BFlMg0naip6MoLFUdsErM20JhAhjZeBKyHVu2bDH62Y4T4eIUpPYJFntL0QY5qnxz2PzWYnovykZ6ulGUOPcapnzRAcsKPAEgG39/V0+fXiGvOhAHXxumvPjiCghggE0ORqCT2PEzKrSYE6qPnqKYRXBcmWxGFK6du4ynrw1pJnrTi3uhi8CydtLiRBnklQfgoJS6avJd8wL4bfwzxHFYdekIPzQfA1s6i1OZclQddpIfAJREAFvsE5xtH0wAc20QhrAkkZ/mEX5r3wXLTcLgGbg8sxM6qFvrhYai1kAceGnUvoUKYB1ilrXTp0BUGXyMJ2s2Asym4e/JzYXdC7iFS8JFgYjFhhzgdxPALNL+nozm/HXELXa6yc/q6CIWG3KA30MA4+1RDKos+rB9ALZJPsQmQh/tlFfH8FP8RW6Uu2yaulEwAvwW8c/i+B0LdOnhODR/IFpKD5GRV8Wwk8JyJRNXFd+8jwAuWX0+tgDOw6VxUr8jR5WgP8C75Zu9CJJSnLjZNLOpXm+wN6i8Pk+5xVzjvseUaqECWBeDZe2kFIgqGHxMP3o3LYB/V7gA5pLjUs+ORzNpsZjMSADDUjstEMBg8XpfP3ExHAO7Mk0wmdvnXheLVR2EvpCRO8BrwWNDP1wi/y65AOYehBH1+jwmfC6m0ckrwX99hD7Fx5J+1gxs+ogI/KcJlJIABpBzH7/5VBQX0pRD5zX585LyCWDlZ5jyT+ECWJ8TqG8OFi83d9XvDuDYd6/wAAmdUT6ZmAIBXRSW+Yi7PchrYuQZ6aaXh0vjpY6/ZI9Czrr+I1qXFUQ1U0GNNVGFTKey6bj5Wxc0/2q/fk/c9COD0KDrRv2uCfoqcVGMO7OMHjLhiA4r83HTRWNZRy8+QmP4XhZOjxLykpkyHbHaRHgZ5xHKYN9jB4w3LGPTz+B7V67TZqCqOwSHpNxLQ+HFvGKRsrsPnPlpcAVcRoYU8iAPcwKY2wnBF903GkVC86KwNZDbLYKB0zdHeJGVe2KouEUTA/vA3eL2SywS1xktghvP7QJRAp/galVSAfz41+IfhIEs3FvYHs4uo/G3fszDIumvofD5Zj8S8iKwrouUCqGAy6DDhulNEwFsnFrzFseGVBWuJbkzgva+5tvEnABmX25GV3EWgXHsi718OqVxDvE7pkCwL7G5qzjoYxzRVygYuqcL4SlGCQtNgWg+B5x20iWG41GKDmZzgJGOI4PFJwyqvLFEGhxqw/BLK0EcKWqPRAg/SVR4DnABAcwtGPPtjo3SFiVcs0dtRWB1OWSME745IkxRm3NyEwHsmW8f4HwD9IL9U0nq83EFMPtyL/rxkVMGqgaD8ecLcSBnHOmUKdFkyjWjrc/yEH1oHf6M1ODFJkPqlrLJFFwT4wT8JRZ9COv+jOTxmgjgeuOgzxx7ewxDxD3N5c5B2Jt/0G/SOFyf0QbuJoN84wNy8XiNv9hfGAtg1kI7TQVwc/48OiSGP0KKcXwgKwQj+IeHMFC5z0MY3/3rELuqA7+QkynT2eQhQCiRf+cXwJv09w7jmhqnQEhPgsv6ZyZaigMApnw7/MbnE1rWzxqXTa+JwKdAoPQEMBfUSzyJKZ7O/EMe5NW6Y8MTSXgKaDV3Zht2i8gvgHOMnl6k8sCvBfJhWSSsVwurxmVc5FGNuX8ex45pfqgtpREoGmDUwTDEpmnx6vBgcbscOar32Y7oXC2SL86BbyUp/1SB+qNC9NvGFN/4WsT+ORot+G2KGJRvORp7n5ou3ngbeRy/BjXH592X47Y0fZgXhoVtK+SL0hqdLdew8ISb9lXUG4lT0l423GG5VzDxs2rot/eVYTEgJ5zv/YgvVHI4B/1hWOnOHc+mYHNXQ4RW1eoXk8fS5l2ZgPr6PY0rY+gJ0zYysqzwl2/PYjS3yFD5GSZf06u+fMfn4cJYYUU5t8G8J7/QR7jZlGk4Aif0MwRaPF3oAZXcCb12CqkUushlaCfmlCvqDMSO0CiEnV6Kfp9JUXhuynErEnQl8QkWeHsYXztL+eK+RjMD+UwX3+ZeFh5ZzU/HM3ZQrzdN9chLvo3t33vxj8e29zPctN6GLoW6USB2iKsatc+WwUeckWAUdfHtcTGFxlgAc9GrflsQlq5F1sPlUPN2MnD0+AV3xSZ6e/hrceDBbSe2is8pZhPWG/Lv5ZWhnvsnju+YBr/aEisFGow6iLDYNLAwFsZGO2kgl9/pRHh8tgrtlsVAxyZgvVraMlCOyuq5+PP4Dkzzqy0OQmVQNBiFg2Gx/BO52ORN8BPbjCnnjWk7t2Bir2HYncDyK9z5XQO4dA4jYamL2Y7eNRRgjHaZYJO3IqAsA0bpgv57xG23SmK39jHmty6DhiNOGAYa3OPEPVSQO/XCTpNNiE3b3TjVSdl4Kq4bjc9RbP/EPbPG0vqYpmIZdh7Ixl8DK4rRVTt02yL6iS7WsNBX4YLR5wq75oT6sMmb0U3qEzm/GvO3uCaDRdazvzC5jRPkXP5uuyk4EmtaVublqeIWfDIwylpQT12PA4f3YPXkbvDouwX8uD/zMqZKT/1klKilnor1Bw5jz+rJ6ObRF1vE4ICxAOZ2Q+m3JQzp2iw8XK4W/JhxhMcvdwumfZk0y1ucHlkblQKDhSi1yd/EN2wKTo1xhR1jLIABWGSnkG/Pb8smY1DOexp2bpmIXsN25wtY5OEfblcbxhHqtcKWjtzZdTEr4GsvR8VeBR8CZLk/ADknh6GqlFvv8SsK3P64gdzFcfr96FX6p5Fm49bsFrDjZ18ZOLSahX+yLOtnzaGkz4jAf5lAqQpgHlx2JI7/+hU8qjtAWckN/WetxI59B7Fv2yKM8OT28C2H2q17Ytyqs4iRZr4yr2JxD1f9gjAZI4dzy76Yto9bcWv4x6adwzS3iuJT1BioqrXDxP3huDqnpbgYQYEqPjNxmhceb3BzeU80KCMXop2OFVCv6zxsmeIOldIRVRt8Aa/OPfHtBnGvUMNpinjF4s2jA/ipb3NUUjFgVJXwuW9P9AsKQNvPa6JqIzW+W3MJiaLRbOIxTPWuARXDQOHUFN2GzsOJBCmsoMWzfTMwtGcLVDJZsKNA5dZDsC0sEzfXjUSgRy3YMwzkFT5D56+mYo/0DGZdDFarXTHqjCTCWSSemo8hXZvC2aS8MqjjHYRp+yMFlulnME6MANvVH/YOEWAOjxYPfm6FMi0NuwCYQtPg7to+aCItTuSizS4dMf/Sazye74VazTzRopUfvp05D/NnDESryk5oOeogYqXGZtNxZV5H1FCJaSyMA+p2nYPdv3SGnaoCarm6w8evN4atuIZ0S30i9g7W/q+RXrxxC39qqxfgij4/3KgGmvvYPKo3PF0kAcjl2TGQl28A7+590KdXADp5fIZKUn6vTNgRQ4NsXFvYFZ9VUIBxbIzusw4hOu8FTs7tjs/007QMFNXVWMVtWWcsgBV18OWscWhbqxwcFAwYxh412k3E4TgBiubeWvyvkSRqubzN2lAvuIIMNg3nprmhIrc1G5dLraqGdhP3I/zqHDEyxO2p64OZp+MRuX8svKob8mLlTq0wYs9TROwbiZZSSg33qO96fph3Lhmvz02DW0Xu+uEWkqlQrd1E7A+/ijktxWlfRRX4zDwt7F7CpiJkYgtU4O1goKzcFtNPJyP37lr0aSItyOPsc0HH+ZfEbb+At+HBGONdA451u2LaksWYrHaBo4svJux7Joo2HaJLYvfpq5jnVQvNPFugld+3mDlvPmYMbIXKTi0x6mCsSX9i1OLIvrka/VuJW8Fx9ZU74YvAMVhwPA46C/snrrzi66PBvfX90NyIt7JGe8w59xIPt36F5kbXjEPD7lh16yUu/OqHenpfk6Oyx3AEP5IuFpNa4Mba4ej2udRHCruQMKoqcPVqB2+PL9CoYQt07j8By4481j/IxLgELk0s5q+J8Kkh7VDDCWFntBy6FeFSV8MNwGP+wkSfGqLw4vxDCeeWQ7HV6CBjAayo8yVmjWuLWuUcoGAYMPY10G7iYYjubWqC+E5z/3eM7NESVbl+gCmL+u0H4JeTifl2PBAPznmI5Z2roK6UAyyVYYmdqSGY2KKCcF9hlKjcdjpOm5kZ4xYOelQLwh799o28AsaKDi74Wv8QINOqFO8P3IMwFqOHq5hjzF3Dcme07DsN+/htJoXydLEHMcZNmkmSgbGrjY6T/0RUyiUs6eVq0q/V6x+Ms79Y0M+amkrviMB/nkDpC2AJoS4TcXfO4tCe7fh942Zs330AJy6HIibNNOIgHW7x77wUPL56HlcexOONdA9gMxB57Rwu3X+OTElfigWy2Ul4ePkMzt95jiwuCJgQibgM6YsWn7XAgdr0SFw/9Sd2b9uM7fuO4+KdKLw2jhgV+IbtfMC+icGtKzcRne/JeSWxkE25hVPXk8zfjIooKCvqISIzuW080hB15wJOn7uG8IQsM+Xo8OZ5KC6fOYOrj1P4bazyXkYhJt1M25XQJ4owz7p/MhHAwjZouvQo3LhwBQ8S3ppE/Is2LA8pj6/i/JUHiDdcFMiIvIZzl+7jef6LoujCTP6al/IYV89fwYP4N3rxyGZE4tq5S7j/PDNfu+XhdfQ9XL/xEC+4Nrb4nwavI27ifEgIzt+KRJqZJra4KGQh6mEkBBeLwp0Lp3HuWjgSsvJ1DJYX+A5Hfsj6vMPpP8RX8lLw5J+zCDl7BaHx4sNACpSbh5Qn/+BsyFlcCY3nmRsfYiKA+W3QdEiPuoELVx4g4W1J/MO41MJfc33SiWsJ+XySO75oO/kS814j+t513Hj4okA99GdkU/EoNFYcmEmfsnj9+CGeF3lbs74/WN7PSvWg30Tgv0/AegL4v8+SakgE3o+AGQH8fgXSt4mA7RAoKIBtxzayhAgQgU+PAAngT6/Nqca2SoCNx5qO0pPgamDk6XfIx7bVupFdnzwBNn4NOooP25DXGAly70/eJQgAEfioBEgAf1T8dHIiIBJgMxBxej78xdXw3F6eLoErceHZK9OnKBIwIvAvJMBmROD0fH/9wi6ZwgWBKy/g2asicwX+hTUlk4kAEfi3ECAB/G9pKbLzv01Al4B/9u/Ejh07TH6CD9027F7w3yZAtfsPE9Al/IP9O019e8eOYBy6nVKC3Pb/MCCqGhEgAlYnQALY6sjphESACBABIkAEiAARIAIfkwAJ4I9Jn85NBIgAESACRIAIEAEiYHUCJICtjpxOSASIABEgAkSACBABIvAxCZAA/pj06dxEgAgQASJABIgAESACVifw0QUw+/ISVo4bguE/7sUjoycLfVgSeUgJO42tC6fju2+/woBvRmL87CUIPv9M2GSfTcSJZdtw34oPrmDTHuBYsPGikF0IeZxlqDb7EpdWjsOQ4T9ib+mBMZyvpK90cbj8h9GireBjeJD24TezL6lZRR7PpuHBsWCTRWa7Qh7DiLrp1wtZmCYsVAvG8QfptreARxeLi7uN2mXXOURKu6nZgk/Zgg2mrUzviAARIAJE4BMk8JEFcA5ODa8OOf9oVXt4L4kw89Se92sVTdwJzO3ZGOXkDmgQ+CuO3ItHWtoLhF0Mxuxu9eFUoyXUnZvAufIgHJOEwvud0rJv5ybj8eU/8H1r6XG2KrRfEauvf86p4ajOPwuegb33EkRY48FV7CvcvRgKi3Qsm4bHh6fDW3pUq6oVfuYe52vT/3KR/Pgy/vi+tf5Roar2KxBbGFv2DaKvH8Wqrz6HPSM8RpZ7BHKZliOw8fgVhCXl2F5t2TSE7RoGV+mx0XbdsCVVMNPqPmXGn6xug+21EFlEBIgAESACNkDgowvgM6NqQcELYAe0Xx6lF4Afgk1u2Hr8z0UFRiaHU5e1eJY/wstm4PaSLvzelHJnKwtgvoIaXJ/yGZRc/WX5BPCZUail4D5n4NB+OaIKE2kfAhRfhhbRW3uiltvPsFjHasMxz10FGWf/v0IAC7A016fgM6UgaIsUwCJb7ZMF8FBJAtgOXTa+tL3Ir7Ef5J7ByJpyoV2MBbBVfcq8P+VY1QZjKPSaCBABIkAEiICBwEcWwAD76jo2zx6PSYuOIfJDBtQyL2FKM3swnDhTNsKkq4WEd9lUnBzRAKqPJIBvTHM1K4DBvsL1zbMxftIiHPugYAyNb/zqzbUf4VGOgapVSQTwY8xv/S8UwDemwbUEAlgXsxw+egFsj95/lFqujnGTvPvrvHMY7aIoIICt6VOF+pOV/frdIdI3iQARIAJE4L9M4KMLYEvgsppc5GpLkl+qxdOl7eAoTlsr6ozFhSIeOMS+3I2+jYdYlgKh0xUSpWahyc2FRWayWvE4DQoVwJaA0WmgKVFkWAedmeMz7y6DXzUFP1j4IAKYZYuPkLIa5OZqiz9OJ7EqCogOmmJBsNCKjaN5XwG8J7soYwr5m+H8hRxg9LEWmmKySYq8JgoTwEZneL+XRfv6O/uTkVGs1gLfMDqee6kz59z5jqG3RIAIEAEiQAQ4Ah9cAOtiDmKcvwfc3dzgxv24eyNg2ApcSdcg8uBM9OvsAXePThi0+R7ureuPjh7uwnFunhixJ0kviNiMUOycEoj27f0RGNgNHnWc4FzfE32m78KDjGLEsPYB5rYUI5MyBvZdN+NVkV/RIOafG4iXxGHmVSwJ8kVrd6EO7h1+xMXXD7B5qDuq2ing2KA3NjziFDWLjNCdmBLYHu39AxHYzQN1nJxR37MPpu96gPxm5kT+hdl926CRsx0UjnWgnnUUhyYXjABr7q1D/44Ghp4j9iBJb38e4kLmY2Cbxmji0wP+rRujaZdxCA4Tl3LponFgfDe0EW138/gS60OfYP9kNRpVVEFh74zGftNwOFoYEWifrIW6kjhdLpOBcayJJm5u8Ph6K6IlHoVdK1rjCHBLTN3zO0a1b4hK9naoWNcNAeN34EGm0ZfZDITunILA9u3hHxiIbh514ORcH559pmPXgwx92/Nc727CiA5N0MRDja5dfODduQ+CfNtj8mXDSCYvLgTzB7ZB4yY+6OHfGo2bdsG44DDTRW05kfhrdl+0aeQMO4Uj6qhn4eihye8XAS6BAM6OPIp5g9Tw9vFHYHdvNHFtg/4/H0FEAQ2dh/jzyzFC3Qot2/dAV7c6qNG0GybuDMUbEaHF14QZAVyoT7GvcHC0F38NurduA98uXRGgbqf3fTePr7CZz7+xzNeL8qcnt4vyawDZkTg6bxDU3j7wD+wO7yauaNP/ZxzRw9Ih+sB4dGsj9Rke+HJ9KJ7snwx1o4pQKezh3NgP0w5H0+OjjS47ekkEiAARIAIFCXxwAcydIuv8WDTg81dlYBy6YYtefeoQscgb9QYfQSov6LJwfKi4CE6mgu/KOCG6qovF5oBKkCvq4rvzQl4Em7IX/apwQk0OZ//1iCxCnLEJa9HZjhGmgGVyVP32FApJgChIRPokfT/6OQnCkKnQAV8GNkHNyg5CSoVMiWY/3IMudjMCKsmhqPsdBDNZpOzthyrc4jW5M/zXR+qjxWzSXxhcj8tHZqBqNBDrzl7C8dXD4VVVTNPIlwOcdXyouAhOBpXvSsTx9WWReHAQ6qsYKJvOwC2uUlkhGOGigKJGEHZLCl5zHz81FwcAChe0Ufuh79TfsGCkJ5zEhXVlO6wU8oqzkxERMgnNxCl+5efjceLxM0Q8f128iDAWwIwK1QMW43L4PRyf0xmVufMwClT93xZRSOsQuzkAleQK1P3uPPhWZVOwt18VfhGk3Nkf68VGZZMPYEANOVQtfsQ9Xu9q8fLsFLiXb4AJogBmEw9iUH0VGGVTzBBAIGSECxSKGgjaHS9wZ5Pw1+B6UDEyMKpGGLjuLC4dX43hXlX1i9osyQEukAJhoQDOvr8M6ioKMHaeWPCIS0DPQ+jcVlAxClRRL8N9fcpPHp5s6gUXFYOyvsvwVANoH/yMllybKFzw7Yk3QEmuCTMCmL8uzfmULgpLvCui+ei9CHutAdjXODastpCXL2NQofMa/lqz2NeL8Sfzfs2J3/tYpq4CBWMHzwWPwNMKnYtWKgaKKmos08PS4P5PzaHi8+YVcGmjhl/fqfhtwUh4Stdr2Q5YWfpJ81JPQb+JABEgAkTgX0igVAQwdFFY4esoiEWmHLr+niBE99hk7Ojri18eSPO7Glyf2lifA6sXwOk70MOeE7AMnIL2II0Dq4vAojZSvqk3lhZxg9PcmYWmYo6nTKZA3e8vFi/m8jde3gWMrS3mUTLl0GllBPJSL+En36pwcHLD9PNvkL6jhyCkGCcE7eGthC5iEdqIYlLlvVRcvJaDyxMaiov9yiMw+LUY7czB2dEuotgwXQSnuT4VjaU8VUkAZ53F6DqcTUaino3H6g4cFyWazrrDCwfo4rDSV2Qlr44BB1KE82UfxTditJdx6IHtgsnQPp6P1pLN75oDrHTF9JviKkPtY/zqYRDgw09x0el07OghiH3GKQgCLm5A1EYUMyp4LxUWQaYF90JZRgZF3WE4ph885eDSRLUYAc7C2dF1eG7yqt/iFD+6YRG/ugNflrLpLNzRADmXJ6ChuJCwfGAwXotR9Jyzo+EiDtBKTQBrQjHPXaiv8vOZuC2iybs6SbCJcYDngnBwV4L26TL4lGUgYxzgt0lYYMe+WItO/CBO4IKSXBOFCGCzPqV9gF/8h+OoGKnPvj4DzcQdJBi7FvjxtjB0tNzXUaQ/mbUBGoTOcxeuJeXnmGmAhUkNOX9n4OC5AOF8t6FD3Epf0WfkqD7gAFL4ds3G0W8qiTvKOKCH5Nz5r2t6TwSIABEgAkSgNFIgBKosXh8cwO+uwN287NstFaJIMasRELAaMfrobSECWPsIa/yrw86uOjovuS+IV10MlvtIArgF5upFdMF21Nz9Ac2MBLDL6HOmAjgvA8lJiUhMNPOTlIZs7oZqLIBV7bHCaK8sUUdB+2gN/Kvbwa56Zyy5L0zNG0cLVS3mgjeTK4sXrtxuCV5Y9EwCUHgOsDmhkHN6BGrwEVwlXGfcEsQu3iC4pz0f7eYEN5+2YCyATQTFFUxsIC2O6oy1CUJNChfALLJfJ+XjlITUt6L9xhFgk10g8nB1kij4ZQrU/u48J/PwaI0/qtvZoXrnJRBw6RCz3EcvgFvMfQAu8zN1WwAc+PxtBmUadMO07TeQxOHNzUIWJyRzTmNEDSE6r3SdgVuiuHwT3BP2/I4U3lganYMLYwWRzO2w4bXomT4ab40c4LxL41FPFNl2fpuQLDoNG78aHaRoe+NpuKHR4OZ0MQ1GXgujzoopHuwrXF41AaOnb8INTrmX5JooiQBGFuJjkgVf0j7BsvZlxVkOBeqOPIV08fKy2Ne5li5iQGXOr5F3CePrSX7ph00GWOLgjlvI2hjTbnANbSyAlfh85m3xOsjDlYkNxMGkHTqvFQfdBbsH+oQIEAEiQASIwIfPAdYzzbmIcfWFmxqjaoE5oTkIm9cZ/XaJ0Uj+wEIEsFgIywKa1HCc3PgDhgR4or5+z9miBTCbtAFqPoIsbCNWceAhYcpdLFcXG4IVP4xF7+ZOQsSIn05lYF+3I4bN2o0HXNDLWADb+eF3Icykr57hBbfgS4PU8JPY+MMQBHjWRwVepMogCWD2xRp0shO30bLrii1C/geAkghg4xs/A1VVV3h4eAg/rYWcSI/ui3GX1whGEWATAXy1ZAKYTcIGtZ2YSiJtAyZEqvn6FyqAdXi2yEsUtjLYd99uhItvVISf3IgfhgTAs34FsQ1UEAQwwCbtQ/+awqI8fos1GQPHhj0wNySej5jq4lbCVxSRjKoqXCUOHq2F3HOP7lh8+//Fmk6S7XbouiVVn2Nc+gLYEI3m7LfvGWzI4321GV31vuCHTUkvsF5irKiPCVdEAWwgZvLKomuiRAJYKp5FQnAfIX1HJoO8ci/seCEN9QzHFOfr3JElFcDGgwKZfU8E65OeX2FzV0Mb+m1KLlIAXyUBLDUU/SYCRIAIEIFiCJROCgR/Ui1C57Tg8y+56fmG3y3GON+ROGG8KAqFC2A29RY2jemIOo6OcO2/BldfhBulQBQtgLlomX57LpkMKq9FZh8kYRIpllfCwL+MjLNIALNIvbUJYzrWgaOjK/qvuYoX4UYpEGIEmEuL8BIFm8y+B3ZkSK1SMgEctaStKCoZlAncrRdVUmn634VGgK0lgDkB2BF24sDCoWewYBqbilubxqBjHUc4uvbHmqsvEG6UAiEJYO7grLDtGNm6MpT6B1DIwNg3wZTLWdBFLUFbSQCXCcRuSTDpAYgpM17ijIHMHj0M0FF6AjgHV+d9j9+jNIhe1k7fVg5990K/5o1PZZAGQ52wJu4ZFrcV7WQqYsBfhW+xZvE18S4COOM0RklRWMYRbX8T8nANSC3zde74kgpgXfQytJPa06Ev9hpg8WkzwiDIDp3WvCABbGgQekUEiAARIALvQaAUBTCgi14J3zLCYjRG5YAmU/4xTUUoRACzaX9jcnMhh5hb7HWTWyyki8BifQ5wMQIYOsRu8EMFUTwx5Xtip5kIrrGQsAGh2gAAIABJREFUkikaYtI1cS6dA1qsAGaR9vdkNHfk6qdE0xk3+SizLmKxIQdYSoFI24me/HFcCkQHrHr+bikQb/YGobxYJy66HCqlUud3gA8lgJGNJyHbsWXLFqOf7TgRLu44UWgEWItH89xFAahE42k3ADYNf09uLmxNxy1cExoVEYsNOcCSAH4b/wxx3Cl06Qg/NB8DWzpDwddbjqrDTiL3zV4ElRcXOapaYK5ZEGnY2VPMQ5ep0GHV81JPgWBfbEPP+l+B07Bvjw4SFgJyEeCAbUIeO7dvSOJ6qMUIsLz6cJzKeYO9QRX0iys/m3pdnNI3bdQSXRMlFsC5uPNTS3FhIAOV6yRcEXX420cXcT3h/yz39XcQwHh7FIMqizuR2Adgm5ibDjbREB2XV8fwU3xHYJQDbJoCQRFgU5+hd0SACBABIlA4gVIVwGCTsbNXRf7mzqhaY76wisXIGnMRYBYvN3cVH1XLwLHvXvD3Yt1TLPS0LAeYP0HOffzmU1FcFFMOnddE6wWQZICJAFZ+hin/FC6A9XmJ0pfZl9jcVXyMMeOIvnsFxaB7uhCeYjRLSoHgFgUu8xF3e5DXxMgzwsIibleAS+PrWbwIjn2xCf7lROGnbIIp10QhytmUF41D6/5EJCeK30cAN5/DC2tdYjgepUhCXap0vt8mAril0aOQDY+4ZrjFcTfywL7cjK7SYMixLwRcOjxd6CkKZSkFQovHv/qi+0ajHM68KGwN5HYLYeD0zRHksC+wyb+cXjQ2mXLNaOuzPEQfWoc/I/MQtcxHFHVy1Bx5Rr8TiHF+rmWL4AwRSpnMHr3N7QKhicDmnjVg77kQTzls6UcwWHwam8p7if5JftqwX9CK9w8Fao8MQSZYvNzRS9ydQwZFzQHY/9I49eAtEl6klOyaKKEA1kWuRmdpQKGoia/+FNOU2ARs6+2LOXcTLPf1/AI4nz+ZzQFGOo4MrilcqypvLJEWuGrD8Esr4ZpX1B6JEH6CxjgViARwviuS3hIBIkAEiICFBEpXAAN4c2wIasgZlFWvhz7wqTcuz2Shkudv3EIlFgnr1aJw4XIR1Zj753HsmOaH2qKAkikaYNTBMMSmGQsFfaH6F7rEk5ji6Qw5I4O8WndseCIJT+EQzZ3Zht0i8gvgnJMYVlWMSqk88OvjfOFWNgHr1dIWZnJUVs/Fn8d3YJpfbVG8y6BoMAoHw2KRxrJ4dXgwXBSceJWjep/tiM7VIvniHPhWknJdFag/KgTpYpXyLoxFHWmnAs/fIKyby8Tlqc30kTplLTWmrj+Aw3tWY3I3D/TdEsXnyMJ4sMDllUp75+aexahaUp3aYZm4GpFN3gQ/MWeaKeeNaTu3YGKvYdgtLpLTA83/wlgAK2phRIg4d/3mjDCdzqjQcPhRfpU+m7DekJctrwz13D9xfMc0+NUWBxEyBRqMOoiw2FcIn98aZRqOwAl91F6Lpws9oJI7oddOYa/ozMtT0UyyWVkL6qnrceDwHqye3A0efbcgSss9ZfAwBrsIfOXV+2B7dC60yRcxx7eSGFGWQVF/FEIk6PnrJ77PuzlDv2+wTGaHjqvj9fnE3CHZceewpE9DODByVBl6Qsw31yFme2/UUDAw7HrBInlrAMoyDJQu/bFH2rYu5z4WtC0vCno5nDxGYMWfl3H35mlsntgb32wIK9k18fYwvnaW2tlXP+Ng1qfYl9j3pbQVoRwVu6wTFlKy6bi9tCuqOaixITG+BL4OFOVPZm3gxmwx29G7hgKM0Y4qbPJWBJRlwChd0H+PuLUdjAdNCtSfcFmcVcrF2VG19Pnk7ZbFFBjwFtK89DERIAJEgAh8ggRKXQAj9yomfVYVQXsNi5AEzhrcXdsHTaSFbdz+uC4dMf9SBti0c5jmVpEXrtwuEqpq7TBxfziuzmkp7A7A7aPqMxOnE4sWwPx5siNx/Nev4FHdAcpKbug/ayV27DuIfdsWYYQnt9dwOdRu3RPjVp1FjJR7mHkVi3u4opyUf8rI4dyyL6bteyoITL5gFmnnpsGtolwQLowK1dpNxP7wq5jTUtgvmFFUgc/M0xDMfIOby3uiQRnueAYqxwqo13Uetkxxh0rpiKoNvoBX5574dsM9ZN1diz5NpMVh3B62Lug4/xL41GFNDP6a6IMa+n2OGSidW2Lo1nAxUh6N/WO9UF0pRoplcji1GoE9TyOwb2RLfaRRxtihnt88nOO2GWNTETKxBSrIue8wUFZui+mnk01EntlrgxPAXrXQbtIunNg2Fp28gzBz4Tx818kFKofa6Dz1EMTnbfApEOemuaEifw6uTtXQbuJ+hF+dg5YOwnkVVXww8/RzhM/3Qq1mnmjRyg/fzpyH+TMGolVlJ7QcdRCx+nGIBjF/TYRPDTtROMrAKJ3RcuhWhBul0b65uRw9G5ThfYlROaJCva6Yt2UK3FVKOFZtgC+8OqPntxvE/Ybz1VL7BH9MDEKb2tL+z0LurrxcfbQNCETvnl3h27IOKojbhnG7TfgsjzUSXm8RHjwG3jUcUbfrNCxZPBlqF0e4+E7Avmf6TYAFb3p1Gb/1dkV5kQ/XDnZVvTAqOJyPblt8TcTewdr/NdIPwmSMCrXVC/D/XDDvU68f/Mzvtcvn2TJK1GzdA726q+FR30nYP9npaxzJKaGvF+JPuUX5NYC34cEY410DjnW7YtqSxZisdoGjiy8m7HumH1RE7x8Lr+pKfZvLnVphxJ6niNg3Ei3FfYB5dvX8MO/cq+J9OF+T01siQASIABH4NAiUvgCGDi9D7yDWNPhaPN28FDy+eh5XHsTjjSR62AxEXjuHS/efI7OY2fkCJ9BlIu7OWRzasx2/b9yM7bsP4MTlUMSkFb3qvkA5+T7IS3mMq+ev4EH8G704ZjMice3cJdx/nmkkhoQvstlJeHj5DM7feY4sFnibEIm4DKmC+Qov4m1eyhP8czYEZ6+EIj7TgoFAEWUJf8rD6+h7uH7jIV5YXF4Wnse81Oes6t6+xJPrf+PMhTuINlunPKQ8vorzVx4g3tCoyIi8hnOX7uO52KhZUQ8RydmgSUPUnQs4fe4awhOyCrDk7c5LwZN/ziLk7BWExnMJBWb+sdlIengZZ87fwXMBOiLjMvTtZeYbH/YjzWtE3DyPkJDzuBWZVsR5WWQ+v4eLp0Pw9/XHSM5/zXzoa6KEtSyZr7+LP3EGafA64ibOh4Tg/K1IpJX80ihhrehwIkAEiAAR+BQJWEEAf4pYqc5EgAgQASJABIgAESACtkqABLCttgzZRQSIABEgAkSACBABIlAqBEgAlwpWKpQIEAEiQASIABEgAkTAVgmQALbVliG7iAARIAJEgAgQASJABEqFAAngUsFKhRIBIkAEiAARIAJEgAjYKgESwLbaMmQXESACRIAIEAEiQASIQKkQIAFcKlipUCJABIgAESACRIAIEAFbJUAC2FZbhuwiAkSACBABIkAEiAARKBUCJIBLBSsVSgSIABEgAkSACBABImCrBEgA22rLkF1EgAgQASJABIgAESACpUKABHCpYKVCiQARIAJEgAgQASJABGyVAAlgW20ZsosIEAEiQASIABEgAkSgVAiQAC4VrFQoESACRIAIEAEiQASIgK0SIAFsqy1DdhEBIkAEiAARIAJEgAiUCgESwKWClQolAkSACBABIkAEiAARsFUCJIBttWXILiJABIgAESACRIAIEIFSIUACuFSwUqFEgAgQASJABIgAESACtkqABLCttgzZRQSIABEgAkSACBABIlAqBEgAlwpWKpQIEAEiQASIABEgAkTAVgmQALbVliG7iAARIAJEgAgQASJABEqFAAngUsFKhRIBIkAEiAARIAJEgAjYKgESwLbaMmQXESACRIAIEAEiQASIQKkQIAFcKlipUCJABIgAESACRIAIEAFbJUAC2FZbhuwiAkSACBABIkAEiAARKBUCJIBLBSsVSgSIABEgAkSACBABImCrBEgA22rLkF1EgAgQASJABIgAESACpUKABHCpYKVCiQARIAJEgAgQASJABGyVAAlgW20ZsosIEAEiQASIABEgAkSgVAiQAC4VrLZUKIuc1DhERCYhUwfo0pLxKs+W7JNsYfH2ZTxe5UjvbfS3Nh1JKdk2ahyge/sSMVEvkC62cW5GBmwdaanCZDPxOk3zwU+hTU+CDbvBB6/vJ1WgjV/jn1RbUGWJQCkSKAUBrEPsueUY3KoiHOzt4fhZT0yb9wNGdmsNd/UwLAyJg03qr9KCnBeLsKcZYJGJ0HW9Ud/RHuU7r0KsrqgTfhiGbNIZ/NSzO0at+QvHDqzB5MB2aPFZd6yKK+zkmbi3IgAuZexRoesmJLFF2fhh/6Z7tgw+jnI4Be60znkzw/DXvD5oXNYB9g4V4LvsGUyosKnYP7Amytjbo0y19hi39Qagi8H6LhWhKO+HDYUxzAzFut714WhfHp1XxZqW+S7IMu9hRYALythXQNdNSTDfJFq8OPsrvvRyR8D45di5LxgrZgxB0MBB8FdPx7UPr//epSZAvrpk3FuBAJcysK/QFZtKydlyLo2He99gJJuAy8LD34PQyNEe5dotwlOtaXUyQ9ehd31H2JfvjFVmLlRdzHp0qahAeb8NMOsG7+QDeXj6eyDqlLFHed9liDRxRlP7wKbj/h+T0blWGdjbl0GtjmMw79fZGNnLD72/X4Vzcbn5vmDNtx+m73p/i0vA0/hkxV7jJenHjQum10SACNgagVIQwFwVtbj/0xdQyRg4Bu3nI1BswnqoHRgwDh6Y/zDfHcfWqHwoe9h0XJzijvYLnoCrMRu/Bh3tZFD5LEdMUTc4/vzvyzAXF8bWhUOntUiQbv5vb+FHL78iBDCgi1yCtioZ7NTrkSh970PxKKIcNvkYxnk1Rae5l5FZxHEf9E+5JzC2bRPUVsqgdJ2G60a6QRfzO2Z0cYdKJoNdp7V4wbFgXyNkijea+kzH2bTC4LCIX9MRdjIVfJbHvL8Ahg6RS9pCJbODen2iGQHM4uXREfjMToG6I04hXQ9Ig4itgXBpPMl2BHD+uugisaStCjI7NdaXirOl49DX1SB38MbSCNMLjn21Gf7cteixAE/yd0dsPNZ0tINM5YPlZi5U9nUIpng3hc/0szDvBu/mA2zSeqg5m9osRj5z9a2qf8EmY2MXO8hkKngvjeb9jH19GqMaKaGoosby0I85S/G+fZe+lu/1okQ8pTNZcI2XrB+XCqbfRIAI2BqBUhPAD39uZSKAkXsSw6rIIWPK4cuDhs45L+Upblw8jyv3YpDO36O0yEiMQXR0NGKS3kCbl4pnNy7jzvO3PLu81Ke4ee0BEsUidJkvERMdjeiYBKRnp+Lptcu4HZ0OIeiVjZQ4rqwYPE/NgS4zFndvPhNvWnlIeXoDF89fwb2YdBOhkpv8CNcuXMOjpCQ8f5Epio7Cj0deCp7euIjzV+4hRqgEgEzcX9kN1RUqNJ92DlEvM/F/LwwCOPptMsKvX0NYkpHqMvEOLSxlaPI16Q37kr9Byit4YuqJOHEanEXKqT8QkiKKNzYHyU9u4OrtKEizxLooIwH8f5l4GRPNt0V0zHO8ys5G6vMYRMckIoMXDeaZZKfE8W0S8zwVObpMxN69iWeiUijY3pzBOUK5XJsnZECjzUAif94YvMzUQSovOkZI45Cq+N6/c09iyoRl+NnTDoy8BoYcfSMWqcG9pT9h2+resOcEsHoDH5XWZiSKvibVnzucxdukx7h+6SoeveTaksULvQCOxtvkcFy/FgbTZjbPjS8tJxlPblzF7ag00Yf///buPS7KMv//+Nz3zAAeUFrBUDfzUGbFrqbm+YQoKppGtpYptsW6ZmaumZa5sZrn9ZAoloct09VatTZXO/jIDoSiAv48kAf4gnh4gBwegqzCl5mY+/H6Pe5hhpMzyJj23dk+/RPgNXNf9/O6r3vec93Xfd020uoKwKXfMLWdCYPxXqbsr3Us2bLY+NI8EpwjwOXFnD8aT/zR8xTXCH0axeeP8t2+r0hMK7R/WXPa1u4L5c7+pvepvOLKvqr3sZyiIrIz9H5bXBHIbrYvtrQ7GoC1Sxt4okUjVIOJDjMSqK6jB+Ah9gA8j6M5P5AQn8x5fY6QvREuVAXg9OtcPpFA/PFsx+urnZ8uFTmsyrh8Mp6v4k+SnZ3FheLymx8DLvqelr2mKgBbr1X2vYyLzvOZs1X0wyyXdWE1A7A+8HAiprP9vNuo/wrSHLvjus8BZZc5Gf8V8Sezyc66QLG773TVNlu/H+t/7nJVt6p+ls3Vcgv5pw/wzeEs7J8AlnxOHYznqPMDwF4h1/2pTs+SXM7p55iMLPJLbRRnHuHg6StYXfTxG/pAHefxGp9HFitX0hKJT75QUXcHnqt9rp+rlBIBEbidAj9bALYcj6GLWcF4dySb7cNpNtI2jaFDn5nsSdzHgsGBNA2ZzCc510nfPoH2JgPmkDFMnTia3m38UAP6MmvNW0RH9qWtn0qTHgtIsYL1/B4mh5gxmO5l0DO/Z+LY7gSZg+i/8BAlWj6JMf3xV4y0iogmsr0fitKEUe8lsmlMB/rM3EPivgUMDmxKyORPyNHg6jez6NYlig17d/LXcZ3oOusQVlua2/K2tE2M6dCHmXsS2bdgMIFNQ5j8SQ7a9STejbwfk8FIq7CXmL81hWuOE6fpvnAm/G4EPe7xQQ0YwPLUGmnE0b43fojcaFjXoWDl0OwHMSsGDEpD2gx6kbhvL1ZNPyk5Suyo++j8xw/Zt2IUHfvO4+B1qBGAy86zY2J7TIpC49BFHCsoJHVtJN3GbSH9mjsTjfzEGPr7KxhbRRAd2R4/RaHJqPdI3OCqvTX0S7on3x9f0eaPLuD0v8+wbmRzVIMvQzfkk58SS2QrIwafQayteS27LoCb/5segF/+mIz1w2ii13HouxWj5cWf8ec/7yV3y+gaAbg0bQvj2piqRgZtl9jzan8ejljM3vefpV2Th5mxv8gRfkzcFz6B343owT0+KgEDlmNv5jqOpZKjsYy6rzN//HAfK0Z1pO+8g1yn7gBs+W4a7YwGDOZ+rDzvPsGUn9vBlG7tCV/4OZ/ND6Pdo1PZlWUD7TK7p3ejedunWL//A55tb8Yc9DCDZ/+LLBd9oTR9E6NaGDGY7iN6z0Uyto+nrd5XH3qBz89nsH1CX8ZuTqewPvtyRwOwjdOrXuWvf5tMW6MBNXg8HxdVHRLOAKwG9eH512bwxMONMbcaxurjFtAcAdh0H+ETfseIHvfgowYwYHkq5ZSStmUcbfR9tl/Juco3s7rRJWoDe3f+lXGdujLrUFndx4CbvlcjsFlyiH+tF7/u9SLr9mdQNWTg2AeXARjKPnueYNWA4hdGXM6Pbs6x9hMds7p1IWrDXnb+dRydus7ikPOLUhXTLf5Un3OXu/O/Rmn6dia01/tZCGOmTmR07zb4qQH0nbWGt6Ij6dvWD7VJDxboHwB19Ke6PK/lJxLT3x/F2IqI6Eja61cnm4xifeLmGn3c1edBWR3ncev5fzHpIf3zqD0Rz4/nsT7taKA2puubhyjT+7LLzzz3/fYWG0BeJgIiUA+BOx6Azb+JZMr44TwS3IDWIxbwWabjlhwtj/VDG6AGTWR3mY2Mpb0wK74M23iFyhNXyBySrTbOr+yH2WCi48xELFo2a0L1y5M9WGSfKFfK1tG+GIxteelbC1iTeO0hE4p/OO9c1LB8PYV7jQq+vRaRmvUFi6fNYXtCHEMbqARN3E2ZLYOlvcwovsPYeKWMz55vgbnVaOKOX0UrO8KOT9L4MW+9m/IaeeuH0kANYuLuMmwZS+llVvAdtpEraOS9M8R+KbyrcwqEc+Sg85scs9pI1/fZ4MOAty+4uLRd9SHi1vBmDVyczOrI9jTUQ7DBgEH1J2TSTi7abGTFhtLIeA+Tv7I4pmb4E7Eplx+rjwBrYDu3hkGNFYxtprC/1EZ67CxWnbGhuTUBLF8z5V4jim8vFqVm8cXiaczZnkCcm/bWd0O7vJZB+oicHoBt+kiWPv1AD8AFYDvNgkf1S+X1CMBaESc/303ipXrMNLcH4H9SevWfRLUwovh0ZX6qlZwPZrHgkIWSrTUDcGUwsl8a/5H8bU8SZPwV43aVoOVu5vFmv2LYugzOOUaAO795DKst3X58GXwG8PYFzb1bfhaxoY0w3jOZryyOS+j+EWzK/bHOEeDS7U9UtK/vCN5zDmDXPi60HN4bdReqbzjv5mtol+MI81Fp9sTfsaUtoadZwW/UFq5Tys6nA1AbDOTtrBKXfcGGleQ3QjAr/gx9Nxtb0RYe91dQgybwz2s5bH5zJSct9dwXTwKwJ+2q77/1EPNmbCLbcpyYR8woij/h66r6mTMAmzvHcLwcyr6azD1Glbse30xuuXMEuDNvHrNiS9f7ddVUGM3Zj/UAXPIZz7cw02p0HMevapQd2cEnaT9WjgDfeAz86LbvlVeOAC8k9ew2Xpm2nhM3JF9H47oJwNbDs+ho0r8QdWHeiWy351g9KLcwt2J03HGuamUc2fFJ5Yhx7cOn4neNopOfszvxUtWXaNcF7VPgnFev3J676jj/U3mOD2FOshXb+ZX0MxswdZxJokUje02o/bzaY9HZOs7NVH2OdHflaeHrKfdiVHzptSiVrC8WM23OR5wpc7a9Pv3FdR+ovJLn8jxezPsjfe0B+KVvS9EK1hPua8Dc5S+ctLr/zHNLKf8gAiJwxwTueABuGLmePS91wKwomDtM4cvCqm+7lktH+f7gAfZuXMz08NYYDT6Ercul6oNAnwuncXntIPsJr8tf9BGYAjYM9cVgfoSYE/rIqSMAmx5k1mEraPm8O8QHgxrMc3vLHAHYEXYrGS1cOvo9Bw/sZePi6YS31kcXw1iX+yNZ6yNopo+gmAPpMn4lCfl6fd2V18ByiaPfH+TA3o0snh5Oa6MBn7B15Gp1BGD7yJHGxbcH2vfLOYevsnr2H6oCcF2GNV9T/TcNm02vewkZn/+V6D6t8NWDsLElz+3JZ+dTAShqAI9Gzeb1mc/xWL/+PBV7AkutAAxF7HrmblQ1mKidCSyb855jbnBdJhUBuOLLTVWd3LW3XsvbFYCtiTN5wKTgF7q6asPufnIE4DIsHJz5ACaDifZTNrJ4xir7HMzSOgNwCf+c0AzV8SWiahPVp0BkYNMu8vZA/QtbT5ak69ek3bid+wdPBSioAY8SNft1Zj73GP36P0XsCUudAdjy5R9o5RgBXqGP6Lr6r3QXTwfoI1xj2aF//yz9kDGNFdTmv0fL+4DRASq+wzdRyDW2RTZG8enFkjSrm76gD7otpbefgl+fZRz8YDZjw9thMrbmj++vIeadDGylO+u3Lx4EYI/aFbi292Wilh7k1Okf+Or1bvgqCj5dYrCfMvTjrXIKRMUcYO3iagb6GDC2nsL+/60egmxoF9+2/5u55xL0JqwRgK1ZrI9ohmpQMAd2YfzKBPK1uo6Ba277ntURgE1t+zKgnR+BQ+NIc3VxSG9jNwHY8u1U+4i30jCCTfka7vrcj1nriWimT0kzE9hlPCsT8l18Ca92MFkTmfmACcUvlNX2K3jV/u2GH+t37nJXN60yAHdnkf5l2/nluMtf7FdRCjYMxddg5pGYE5S760+5WmUAdu3pCMCOwYvKXXCO/tu/5LruAzXa31b7PO4IwOYQ3kgph2ubeczXgOnh10kq1z8uXH/mVX0qVtZEfhABEbjDAj9DAN5GSdE+Xuygj8KYaPvcp+TZe7uVs1uj6RzYjnHb0kl1zHP86QE4j3cG+1TMifza4joAW8+yNbozge3GsS091TEPUQ/A+uX4Yk5un83IDk0wKirNx+2kqI7y1rNbie4cSLtx20hPdcyfve0B2J2hfnSUU1bm4lPSeoCYmVux53e9mHaVI2/1J0A1033hcXaNC0BRGjF6S81bzmpMgXCclUu/mUo7o4p/h768+rHjNqs6TJwjwDUDsPv2vp0BmOKDrIqOYtY/zt6861QGYP3mv2X2UKc0uJsnNuXYw0DdAfgau57WDRsSsamg2rbqCj82cOd2fgfj9JDaaDQ1m6TuKRBc/Zjxd6sYjK2I/szNcGHZp0Q1U1ECnmKnPQB/xJN6AG4RrQ+VkrnrT/Tp0JtJb73M0N905amViRTZG8VFX7AfS9msH9YExdyGTs/Gcip+BvebjAR3jOZ9fR5R2a767YsHAdijdtXy+fsLY5kdu5a1a9ey9u1p9AvQjdrwwv4KoxsCcE7F/FvTA69yqMYo4E0CsB6Ii0+yffZIOjQxoqjNGbfzSuUIsP1GyBpfgkrc9j3nlS/Tg9HEjG+LWW1K38XHXY+4ugzANrJWDcBXUQmI2MBFra4+p1F8cjuzR3agiVH/MjSOndWmiFQ7oB0/FnNwVTRRs/7B2ZtOlagegN2du+qomycB2F1/qh6AXXrWJwDbG/eGz4Mr1a8AeBSA69jnG8HlLyIgAndY4I4F4BT9MqlBocHjW+3z14r2TaGDWUEx/pqnP8pG0z+UA1UU/yfYfs1C0ut6+dojwAvtI8A5lSPAJ+0jwOtdjQAb2zDl6zKwxPOyfid0q9+z+6p+NX4KrY0qzaI+rbwJpuzTKAJVBf8ntnPNksTr+hxi+wjwNbZNn85X+t0Wlkw2PBaEX2gsmZ+4K1/Kp1GBqIo/T2y/hiXpdUL0S6WOAJz/brh9hDfkjWQKUo/zPxmOm+B6LSXDfuIc4BgBTqtxE15Fm5dzU0OK+XzKffj5dWDql9dqHirWBGZ06seik1VTAcqPzuW3Pr8m+rN/c/GdcPwVlcCRG8gq1wfO49nx5XmszlUgBq6uWgWi/BhvdjI7pkFUbMa9oT4q/jVTWhtRm0XxqfPOozra+8YAbCNtSU/78TBobQ6aNZk5v6lYLWDN7Vwuq+yfTHlhZ8UNgloum0ffhalFFP90TCW4/oHjJriBjpU0KlcH6MXSjB/J3jThdoILAAAcn0lEQVSCAFWhUa+3OKrnKq2AE8ezyHRMgei11DECPMAxApxmw61bznneCfdHUQMZuSGLcjTy43fw5Xlr5SoQA1e7WgWinDNxQwlSVe4e83f7PHbngWDL/YYFU5Zx8Ho+H45tbp8CsV6fApGjTzcx0jLqE7Bl8VF0F/q+caSyf1S8vsRlX3DyF370FIHGpkRszEGzJPCn+800+92HFatQaBfrty+Vq0AMZPVtXAXClr6KqFf2V9uf6+x+NhjVoPKrxzfbl0SrDMD6pelyfcbEqzxgMnHftG8prdHOFQF4gD49p+cS+zSBylUA9H78721Mn/6V/SYnS+YGHgvys6/W4VwJ5MZj4Ee3fe/HylUgFnI63zFo0LALc/TJ+bX/0y4TV3kTnOP8UXyAWZ18MLccybrTVqijz13bNp3pFSc6Mjc8RpBfKLHOxq29LY9/r8e5q466VR8BXqiPANuPV8c0gnIoWF81Anzd7blcHwF2rqrhylMPwK0xqs2IqjxJ6X3YuQKI3sf/7bIPXDpX13m8agR4TnKtEeB/u//Mc4w1eCwtLxABEbh1gTsQgG1kfr6UcQ83QDEYMN49kD9tPsIVWxFfvnC//aYstXkYi+IPsjw0AFUx07z7BOZOG0KQaiR4yAK2LBthv6yrNgtjefJxNj3eCqNB5a6BSzh89G9E6lMW1LsIXZzMVc05B7g5vZ+ZxITB9+PftBN/3HUem+0Ce6d2oaE+/eL+scQmVIzslZ9aSWiAimJuTvcJc5k2JAjVGMyQFQlsHNOaXtFL2PzRBqYO7Makj3Owui1/mOSVofYQZG7enQlzpzEkSMUYPIQVKSWUp8znUX8VY0BHnlwTT8Kq4bTUb8gJGsLKpBTiIoLt+xU4eDnHanzG1dMw4X/Y/lRzjMZgntlZtQCW/XCwJvBKl1a0CRnBaxs/5at924gZ3Z2wN77EvgiE5TTvT3iQxqqZgDYh9IxcyHdXikhaOohA1YAxOIK4U87wbCNzVRjd56ZUrhDg3vAIZ/ZOpUtDBcV8P2NjEypCWfkpVrps7xXoKzZVXua0zwGG8pPLCW1mxLfVo0Q+F82Qtg1o2qoLz6xNvvWjvdortcIUtr0xnHuD+/Bi7H7O2+D655MZNDMBix4+D2/m1bCWGA0G1IDuTHongeKkFQzTbwBTgwhfnUpZeSY7pnTlV0YjTe7tzvDfz+NfJxJZNVx/nUrQkJUkpcQREay/JpDBy4/h3i2FwtPvM+HBxqjmANqE9CRy4XdcKUpi6aBAVIOR4Ig4Kpuk2r7ANY7/bTJ9fn0X7QZO5NX5C5n70nOM/8MCPrtYcXVAy/mSuWEPEfrqB2yeMZCHh83ja32UTJ8P7KugmBoQENicu1vey0P9nyUuKZctLvpC5Qd1yRdM7hbluLHMwvczBjJpb9VBbKnHvhw+sJRB+sowxmAi4k65HumssZ83/0W7vJ+Y0BbcM3QO248WoqFRmPIhc8Jb2NtSMd3D8GUJaHnvMvqhCKKejmLuB9t5a+T9dIhcyaEijeLkVQxvWdHOQ1YmkRIXQbDebwMHs/xYNkkrhtHC3o/DWX1kE2Na9yJ6yWY+2jCVgd0m8fHZI3UeA7jse//Lqbjh9u0Yg4ex4sgZdkd3wGRQ8OkQzT+rh1OtkJStL9NXn8JgUAnoOoHX5r7Cs8P6M+wPy9l33jFEW0efS9g4hta9olmy+SM2TB1It0kf1/jydHNpdyXqee5ye/5fwXcJqxmh3/SqNiNseTLHNz1e8Xlw10CWHD7K3yL16XIqd4Uu5tCh5W7O5Ykk1+G568i/mNqlIYpi5v6xsSToVy70tXtq9PEjbLqhD5zlSB3n8cNJ7zGmrQmD2oTeMQmkbB1LG/1YadqPvyQk1nkOdCcqfxcBEbgzAncgAHtQUesVMs9kUWg/X5eQfTadPOeIYb3fpvoc4BIKL2TV6z2sVzI5k+VYXqgkm7PpeZShUZRfgNVaxIXTp8iqqJi9Jq7L6/9k5UrmmcqyJdlnSa+2E9aiC2Q6loWq9y55UtBSQNZ555JZ1V6oXeXChUK08kIyU74nPjGVC0W1r11qlOal80Na3s2fFlaSR26tdZLcm1SrR/UfXbT35UvJ7Nr2DVkXKm6C09fcda5bXH71AmfScynVLFwtKql7jmL17fzMP1sLs0i7ULH0V302XaebVkpe+g+k3coj8WzFnD9+kO/ij3Aq57oLLxvXs9NIy6lmWZ7JB888wm/7DSciIoKIYaF0auFLo1HvkeWmL1Tso0ZhfkHlFyKtsIArtacg/5R9qQ/kTyljK6bYntfLuXr+LBn5eu+/hf+0IvILrOj9/PQp57msPu/jQd+rz9u5K+Oiz+mnJ60onwKrlaILpznlPA+6e4879Xc3dfN0c3X2J0/frEZ5958HNYp58stt2mdPNillRUAEXAv83wZg13Xy8K/X+WCUvgpEO6b9xzzyysNd+AUXL3xvBA39+rFs3wJ6mH3p/GbVKPMvmOVn23XL/he49+5n2FU5g8ZG1spBhMz4/raMyP5sOyIbEgEREAEREAEPBLw+AJec3ML0yMEMGjSYsbO3kFxwS+M4HpBJ0dsqUHqaHfPnEvPGS0xd+CnpHl8BuK21+eW9Wfklvl7zKlNnxLB42XJWLF/C0g3fcKH2xYJfnozssQiIgAiIwH+xgNcH4P/itpFdEwEREAEREAEREAERuAMCEoDvAKq8pQiIgAiIgAiIgAiIwH+ugATg/9y2kZqJgAiIgAiIgAiIgAjcAQEJwHcA9T/jLcspzM61r8H8c9SnvDCbXDfPYfg5ti/bEAEREAEREAEREIH6Ctz2AHw1ZRMTOzXFz9eXBkH9mBr3FZn2By0cYVvMaDrcO5g5e8/VXT8tj8PvT6Hnr/zwazau4vGtdb/iJv9qIfP4qYqnW92k5M/5z1phMh+8PJCWDXzxbdCS/pNimDf7eUaGjeKFFV9w7pZvCLORETuIpkZ/wtacq/mQjeJjbJsRSiv7NgPpNv5VZozvz8O/CeXZJV9xqfZSVvUAsWXEMqipEf+wNZwrPcW6x+6hga8/fZeerbltiklZPYo2DX3xH7iCzFvY1k2roxWS/MHLDGzZAF/fBrTsP4mYebN5fmQYo15YwRdO1OIUVo9qQ0NffwauyKxVz5tu5ScVKD7+D94c2Z6G9j7Smz8uWsALQzvTJfwPrL7ZI2mdW7ZkcvxU0a0t3eV8D/m/CIiACIiACPxCBW57ANYdi/dGc4/RgNJ4MHHVnhtvPRxD9PIz9Qsblm95qa0RpfGTfKQ/vvWW/9Mo3D+dR/rM5wcXTwy+5be9TS90PgDCYO7JknQ9EWoU7I2mvclIYOgy+0MiPN+URsGe6fR8sDevfH7lxpB09T1G+BowmDvx52PlUJ7KvK5mDIo/oW9neLw5rWAP03s+SO9XPueKppEdG2p/wl33RTe2deVTtHovI+NOBGC99tpl1g7ywWAw03NJuv140wr2Eq0/ITAwlGX6kzfQcD6ty/64Wo/3+qe9oHTnUwQoBkwPv06SFawHZtDBZEC9ewKf1Hw69Y0b0grZP/0R+sz/oXId3hsLyV9EQAREQAREQATcCdyRAEz5Uf78WzOK4kPX+amOD+ky4udO42+OJ+5opZf54cB3HEqr+RAH7doFUr4/REbe1zcGYEsupw7sZ9+3SWQUOtKTrZicjHTS0zO4WGjBeiWNxPhkLjgeSlWcvJzwu42YQ2bwRVoOxfaXWcg9dYD9+74lKaPQEcjLKbqUQXp6OhnZVym35HP6wDcczqp4I0v+KQ7GH+XSbb7Mr+WuI8xHD6POAAyUnyCmsx5IG9F/RZqj7TRKL//Age8OkXZFX6PKRnFORX31fc/KK6EkP4uM9AwuFRRwyWFyqchF6i/ZwqjqAZhrfDDKD8Wg0vzZf9m3Z8k9xYH9+/g2KQMndUnuOTJ0n6x8Sm3FZB45yOkr1iq3S0X2R/hmr6kKwNZrOfbXVLSPFe2C4zGivZeRfv0yJxLiOZ59y0Pdro9rLZd1lY+JrQjAUM6JmM72x3M36r+CNJvGBccji3svS+f65RMkxB/HWZWb7mtOMbaSXM45nLOLbdiKnfuqG+VRUpJPVkY6GXaXmlUt2zWuKgCXg+3UW3QzG1AaDmdjvmMpP1fHO8UkLw/nbqOZkBlfkJZTzL9dtktd71GzLvKbCIiACIiACPzSBO5MAMZG1ppBNNZHuO6fTryeb67tZdaMHegP7C05Gsuo+zrzxw/3sWJUR/rOO4geM8tOrGFEK1+a94xi2tQxPKI/rtgxAmxL28SYDn2YuSeRfQsGE9g0hMmf5KBZz/OvSQ9hNphoH/E84x/rQ7sGKo27vsmhsuskvRvJ/SYDxlZhvDR/Kyn/TmPTmA70mbmHxH0LGBzYlJDJn5CjlZK+fQLtTQbMIWOYOnE0vdv4oQb0Zdaat4iO7EtbP5UmPRaQchvXSHUZgCnjs+eDUQ0KfmFxuhhHY0dxX+c/8uG+FYzq2Jd5Bws5v2Mi7U0KSuNQFh0roDB1LZHdxrHlxHG2jGuDyWDG5ehm7QBsTeGN35jtjx4d/f5F0jaNoUOfmexJ3MeCwYE0DZnMJznl5CfG0N9fwdgqgujI9vgpCk1GrSdx8zja6G72UV2N6gHYkhPPa71+Ta8X17E/o6QyAJvuC2fC70bQ4x4f1IABLE91EdRvtTe6DMBQ9tnzBKsGFL8w4nLKHQHYxH3hE/jdiB7c46MSMGA5qeWa2309sHYkzVUDvkM3kJ+fQmyk/phuHwatvUzZ+R1MbG9CURoTuugYBYWprI3sxrgt6Tc8aa9GAL6eS/yfe9E04EF+F5ts7wtuj/frSbwbeT8mg5FWYS8xf2sSWS7bZTOXz7jpM7fqKq8TAREQAREQgf8SgTsUgIEr/+Dp5ioGNZgJHxdR8NGfmP35dbBlERvaCOM9k/nK4rgM7R/BppxL/G1kAKq5K/P1uQplXzKplXMKhEbe+qE0UIOYuLsMW8ZSepkVfIdt5Io+5eL9kfjqAfilbynVClgf7ovB3IW/nCxHy3uHIT4GzF0rpkBoeesZ2kAlaOJuymwZLO1lRvEdxsYroGWvIVQvGzKHZKuN8yv72YN1x5mJWLRs1oT6YDD3YNHZm1y714o4+fluEi9ZbnqYuA7AVg7P6ojJYMDcZR62rFhCGxm5Z/JXWLTzrOrvg3/EJnJ/PMeaQY1RjG2Ysr8UW3oss1bp0w6qj25m3DjlxBmAjS0InTybl57syQMhYUyKS+RKeR7rhzZADZrI7jIbGUt7YVZ8GaYDWb5myr1GFN9eLErN4ovF05jz0RnKqo3qZtiqBeCFqZzd9grT1p+ovBmvcgS485scs9pI19/f4MOAty/cOFWjhp5G0cnP2Z146eZPKHMTgK2HZ9HRpI+2d2FeqrVyBLjzm8ew2tLtx4LBZwBv69N23Oxr6YkYHjFXBOACbJxe8Ki9/noA1rBxzv7Fz0ibKfsptaUTO2sVZ1wcLs4AbGw5mKlzXmT0b1vStv9zLPk8Cwt1He8aee8MsU8x6eqcAuGyrqe4VEefqUErv4iACIiACIjAL0zgzgVgyoh/+T5MBoWmwxaw6KUYDuh5sHQnTwUoqAGPEjX7dWY+9xj9+j9FbNIOnrlLRWkYyTZ9moHlu5pTICyXOPr9QQ7s3cji6eG0NhrwCVtHruYMwGZC3tAfo3uNzY/5YjA9zOtJNwZgsHDp6PccPLCXjYunE97aiMEnjHW5WlUA7r6IMzaNy2sH2YNGl7/o0zgK2DBUD9aPEHOi7tFKa+JMHjAp+IWuvunh5DoAW/h2aluMBoWGEZuomC+qEvBoFLNfn8lzj/Wj/1Ox6NUo2vUMd6sqwVE7SVg2h/cu6Ze+6xmAnXOAa9XScuko3x88wN6Ni5ke3to+whm2LhfNEbQqwnHViypDbY0RYBNt+w6gnV8gQ+PSKueq1i578e2BdmPnXN2qd631kzWRmQ+YUPxCWV1tXnmtUhW/ugnAlm+n0lafm94wgk35zhFgxyi5dpG3B+pfcBxTUdzsa3mdARi9QXjmbhU1OIqdCcuY894ll8HeGYDtc4DtN4l+xNjmKoq5LZM+uwpuj3f3Abh2u7h/D5dq8kcREAEREAER+MUI3MEADOWnFtLdV0ExNaL7/BMVIahsF+MCFJRGo9lS/Waf0h2MbarYA/DfXQRg69mtRHcOpN24baSnLqaH+RYDsPUsW6M7E9huHNvSU1ncw3zbAzDFB1kVHcWsf5y96YHkMgDbslg1wBdFDSBiw0UqwpJCo9FbqE5mf/PSb5jazojq34G+r35sn2Ly0wKwlbNbo+kc2I5x29JJXdzDPsJ5KwH4wegYxrc1ozbty+LjFaPhtxyAKebgqmiiZv2DszebguIyANvIWjUAX0UlIGIDF7VaXxJuVwCmlG+mtsOo+tOh76t8rM/5cfFf7QCMLYNlvc0YDCY6vHIQ98d7/QOw+/dwUSH5kwiIgAiIgAj8ggTuaABGy2GTPq3Brx/Lnbf8axd5J9wfRQ1k5IYs+01T+fE7+DIzg7WD/VGcI6zXPmVisIrS6Am2l5bxaVQgquLPE9uvYUl6nRBXAXhOcq0RYCta/ruE26c1vEFyQSpH3hlPoKrg/8R2rlmSeD3EVQBeaB8BzqkcAT5pHwFeX88RYE+OH+1yXNVNcGkV18qLD8yik4+ZliPXcdoK2sV3CPdXUANHsiHLPlxI/I4vOW8vXs6xNzthdkyDqNh21QoHvZa6mAJR/D4j7TfBhfBGSq3R7LJPiQpUUfyfYPs1C0mvh9QMwK2NqM2i+LTafWuVKzv0Wop9CoRzFYiFp8nf9yIdzAoNu8zh4HWoXfbi2wMcI8BpN07V8ASyelntMnGVN8E53rf4ALM6+WBuOZJ1Omq1VSDsRnoAHuAYAdbbQR8BdrGvtrQl9NSPvUFrydGsJM/5jd0ndE125Uhv+bE36WR2TIOoXq9qP5fufLriJriHXuOIXp3Sr3lRX/XE1JroPbl1HO8a+e+G281C3kimIPU4mSWu6lp3n6lWFflRBERABERABH5xAnc2AOvzc/c8T8cRG3As/mAHtpx+nwkPNkY1B9AmpCeRC7/jigYlKSsY2sqHX3UazpinnqB3S18at+jKxI0pnFoZSoCqYG7enQlzpzEkSMUYPIQVB5N4b0xbTAaVJr1jSEjZytg2RgxqU/r95RCUpzD/UX9UYwAdn1zDkZSVhOo315mb033CXKYNCUI1BjNkxXckrB5BK6MBtVkYy5OPs+lx/QYnlbsGLuHw0b8RqU+XUO8idHEyVx032f+UI0YrTGHry31pphowqAF0nfAac195lmH9h/GH5fs4XznSaeH0+xN4sLGKOaANIT0jWfhd1fJmtsxVhHWfS2WWLU5ixbAW9roHha8mtVpYpfgYf3+5P0H6NpWGhIz/K1+eqzZJtfwUK0MDUBUzzbtPYO60IQSpRoKH/JU9u6bSpaGCYr6fsbEJjjYtJmnFMFrobkHhrD76/4gbHozRYCR42AqOnNlNdAcTBsWHDtF/J3nVcFrayw5hZVIKcRF6WZXAwcs55li546eYohWSsvVl+jZTMRhUArpO4LW5r/DssP4M+8Ny9jlRi5NZNbxlhdGQlSSlxBERrLdvIIOXp3Bhr6t91VfoOMny0GYYfVvxaORzRA9pS4OmrejyzFqSrzpqbstkVVh35lY2SM09Kj7+IXOH61NL9OkYv+HpP7/FaxMG0qXPk7yx4wyllLs/3lNKKE+Zz6P+KsaAjjy5JomzLuta93vUrJH8JgIiIAIiIAK/LIE7HoCx5XH+oou1w7RS8tJ/IC2v1iK/1iucS7/EtfIyigpLKkfVwMqVzDNkFVakwpLss6TnVU92dTSctYgLmdmOJdDAeiWTM1mF2N+pJJuz6XnU853q2Mid/yetNI/0H9KoTaavEpGXW1zN6ifWxXqFzDNZVFCXkH02nfpS/8Qte8fLy69y4Uw6uaUalqtFlLj4MlSSl0uxi7/XfwfrPt6tRRfIzC6+yah53e9R/7pISREQAREQARH47xK48wH4v8tL9kYEREAEREAEREAERMDLBSQAe3kDSvVFQAREQAREQAREQAQ8E5AA7JmXlBYBERABERABERABEfByAQnAXt6AUn0REAEREAEREAEREAHPBCQAe+YlpUVABERABERABERABLxcQAKwlzegVF8EREAEREAEREAERMAzAQnAnnlJaREQAREQAREQAREQAS8XkADs5Q0o1RcBERABERABERABEfBMQAKwZ15SWgREQAREQAREQAREwMsFJAB7eQNK9UVABERABERABERABDwTkADsmZeUFgEREAEREAEREAER8HIBCcBe3oBSfREQAREQAREQAREQAc8EJAB75iWlRUAEREAEREAEREAEvFxAArCXN6BUXwREQAREQAREQAREwDMBCcCeeUlpERABERABERABERABLxeQAOzlDSjVFwEREAEREAEREAER8ExAArBnXlJaBERABERABERABETAywUkAHt5A0r1RUAEREAEREAEREAEPBOQAOyZl5QWAREQAREQAREQARHwcgEJwF7egFJ9ERABERABERABERABzwQkAHvmJaVFQAREQAREQAREQAS8XEACsJc3oFRfBERABERABERABETAMwEJwJ55SWkREAEREAEREAEREAEvF5AA7OUNKNUXAREQAREQAREQARHwTEACsGdeUloEREAEREAEREAERMDLBSQAe3kDSvVFQAREQAREQAREQAQ8E5AA7JmXlBYBERABERABERABEfByAQnAXt6AUn0REAEREAEREAEREAHPBCQAe+YlpUVABERABERABERABLxcQAKwlzegVF8EREAEREAEREAERMAzAQnAnnlJaREQAREQAREQAREQAS8XkADs5Q0o1RcBERABERABERABEfBMQAKwZ15SWgREQAREQAREQAREwMsFJAB7eQNK9UVABERABERABERABDwTkADsmZeUFgEREAEREAEREAER8HIBCcBe3oBSfREQAREQAREQAREQAc8EJAB75iWlRUAEREAEREAEREAEvFxAArCXN6BUXwREQAREQAREQAREwDMBCcCeeUlpERABERABERABERABLxeQAOzlDSjVFwEREAEREAEREAER8ExAArBnXlJaBERABERABERABETAywUkAHt5A0r1RUAEREAEREAEREAEPBOQAOyZl5QWAREQAREQAREQARHwcgEJwF7egFJ9ERABERABERABERABzwQkAHvmJaVFQAREQAREQAREQAS8XEACsJc3oFRfBERABERABERABETAMwEJwJ55SWkREAEREAEREAEREAEvF5AA7OUNKNUXAREQAREQAREQARHwTEACsGdeUloEREAEREAEREAERMDLBSQAe3kDSvVFQAREQAREQAREQAQ8E5AA7JmXlBYBERABERABERABEfByAQnAXt6AUn0REAEREAEREAEREAHPBCQAe+YlpUVABERABERABERABLxcQAKwlzegVF8EREAEREAEREAERMAzAQnAnnlJaREQAREQAREQAREQAS8XkADs5Q0o1RcBERABERABERABEfBMQAKwZ15SWgREQAREQAREQAREwMsFJAB7eQNK9UVABERABERABERABDwTkADsmZeUFgEREAEREAEREAER8HIBCcBe3oBSfREQAREQAREQAREQAc8EJAB75iWlRUAEREAEREAEREAEvFxAArCXN6BUXwREQAREQAREQAREwDOB/w94VdZmqAwbfgAAAABJRU5ErkJggg==)\n",
        "\n",
        "\n",
        "For more details regarding the implementation please refer to this [blog](https://medium.com/@stepanulyanin/implementing-grad-cam-in-pytorch-ea0937c31e82) by Stepan Ulyanin"
      ]
    },
    {
      "cell_type": "code",
      "metadata": {
        "id": "VIXD5E6UkssL",
        "colab_type": "code",
        "colab": {}
      },
      "source": [
        "!mkdir data\n",
        "!mkdir data/animals"
      ],
      "execution_count": 1,
      "outputs": []
    },
    {
      "cell_type": "code",
      "metadata": {
        "id": "FXUJupkcWNWh",
        "colab_type": "code",
        "colab": {}
      },
      "source": [
        "!wget -q -O data/animals/animals.jpg https://media.fotoscapes.com/imgs/BB/fD/Bq/SY/BBfDBqSY-RqfLrE4SX.jpg"
      ],
      "execution_count": 2,
      "outputs": []
    },
    {
      "cell_type": "code",
      "metadata": {
        "id": "ThfIk4l2d7f2",
        "colab_type": "code",
        "colab": {}
      },
      "source": [
        "import torch\n",
        "import torch.nn as nn\n",
        "from torch.utils import data\n",
        "from torchvision.models import vgg19\n",
        "from torchvision import transforms\n",
        "from torchvision import datasets\n",
        "import matplotlib.pyplot as plt\n",
        "import numpy as np"
      ],
      "execution_count": 3,
      "outputs": []
    },
    {
      "cell_type": "code",
      "metadata": {
        "id": "4S4PCK-Gkdlk",
        "colab_type": "code",
        "colab": {}
      },
      "source": [
        "# use the ImageNet transformation\n",
        "transform = transforms.Compose([transforms.Resize((224, 224)), \n",
        "                                transforms.ToTensor(),\n",
        "                                transforms.Normalize(mean=[0.485, 0.456, 0.406], std=[0.229, 0.224, 0.225])])\n",
        "\n",
        "# define a 1 image dataset\n",
        "dataset = datasets.ImageFolder(root='/content/data/', transform=transform)\n",
        "\n",
        "# define the dataloader to load that single image\n",
        "dataloader = data.DataLoader(dataset=dataset, shuffle=False, batch_size=1)"
      ],
      "execution_count": 4,
      "outputs": []
    },
    {
      "cell_type": "code",
      "metadata": {
        "id": "QjHsTUj1kRqE",
        "colab_type": "code",
        "colab": {}
      },
      "source": [
        "class VGG(nn.Module):\n",
        "    def __init__(self):\n",
        "        super(VGG, self).__init__()\n",
        "        \n",
        "        # get the pretrained VGG19 network\n",
        "        self.vgg = vgg19(pretrained=True)\n",
        "        \n",
        "        # disect the network to access its last convolutional layer\n",
        "        self.features_conv = self.vgg.features[:36]\n",
        "        \n",
        "        # get the max pool of the features stem\n",
        "        self.max_pool = nn.MaxPool2d(kernel_size=2, stride=2, padding=0, dilation=1, ceil_mode=False)\n",
        "        \n",
        "        # get the classifier of the vgg19\n",
        "        self.classifier = self.vgg.classifier\n",
        "        \n",
        "        # placeholder for the gradients\n",
        "        self.gradients = None\n",
        "    \n",
        "    # hook for the gradients of the activations\n",
        "    def activations_hook(self, grad):\n",
        "        self.gradients = grad\n",
        "        \n",
        "    def forward(self, x):\n",
        "        x = self.features_conv(x)\n",
        "        \n",
        "        # register the hook\n",
        "        h = x.register_hook(self.activations_hook)\n",
        "        \n",
        "        # apply the remaining pooling\n",
        "        x = self.max_pool(x)\n",
        "        x = x.view((1, -1))\n",
        "        x = self.classifier(x)\n",
        "        return x\n",
        "    \n",
        "    # method for the gradient extraction\n",
        "    def get_activations_gradient(self):\n",
        "        return self.gradients\n",
        "    \n",
        "    # method for the activation exctraction\n",
        "    def get_activations(self, x):\n",
        "        return self.features_conv(x)"
      ],
      "execution_count": 5,
      "outputs": []
    },
    {
      "cell_type": "code",
      "metadata": {
        "id": "hsPpWAE4kWW4",
        "colab_type": "code",
        "colab": {
          "base_uri": "https://localhost:8080/",
          "height": 103,
          "referenced_widgets": [
            "1437c12757174d1991eb67d72230d092",
            "67d4ded5289f493ab74df5d152a7ed87",
            "b95399ad7756462ab32b38d9ff70ff12",
            "8218deb481254d8f87b6c7984822b84a",
            "0070c86dab404f569b5bdc2ab54023ee",
            "84edc65d0f6b4fb98314afd08dd2b44e",
            "29769be9020e470998ec9f7edf002d98",
            "f84f8090c2c84579be4c76c59d2a8085"
          ]
        },
        "outputId": "d2330e57-1512-4aa3-e331-c088779a0de6"
      },
      "source": [
        "vgg = VGG()\n",
        "\n",
        "vgg.eval()\n",
        "img, _ = next(iter(dataloader))\n",
        "pred = vgg(img)"
      ],
      "execution_count": 6,
      "outputs": [
        {
          "output_type": "stream",
          "text": [
            "Downloading: \"https://download.pytorch.org/models/vgg19-dcbb9e9d.pth\" to /root/.cache/torch/hub/checkpoints/vgg19-dcbb9e9d.pth\n"
          ],
          "name": "stderr"
        },
        {
          "output_type": "display_data",
          "data": {
            "application/vnd.jupyter.widget-view+json": {
              "model_id": "1437c12757174d1991eb67d72230d092",
              "version_minor": 0,
              "version_major": 2
            },
            "text/plain": [
              "HBox(children=(FloatProgress(value=0.0, max=574673361.0), HTML(value='')))"
            ]
          },
          "metadata": {
            "tags": []
          }
        },
        {
          "output_type": "stream",
          "text": [
            "\n"
          ],
          "name": "stdout"
        }
      ]
    },
    {
      "cell_type": "code",
      "metadata": {
        "id": "PJiiQwqjXo-u",
        "colab_type": "code",
        "colab": {
          "base_uri": "https://localhost:8080/",
          "height": 34
        },
        "outputId": "574a96e8-26ab-40f8-c963-37fae9193675"
      },
      "source": [
        "torch.topk(pred, 10)[1].numpy()"
      ],
      "execution_count": 7,
      "outputs": [
        {
          "output_type": "execute_result",
          "data": {
            "text/plain": [
              "array([[293, 164, 167, 288, 251, 272, 212, 599, 273, 227]])"
            ]
          },
          "metadata": {
            "tags": []
          },
          "execution_count": 7
        }
      ]
    },
    {
      "cell_type": "code",
      "metadata": {
        "id": "ZxyjWpPKkaHk",
        "colab_type": "code",
        "colab": {
          "base_uri": "https://localhost:8080/",
          "height": 292
        },
        "outputId": "401203c1-97c4-4b02-b9dc-e100bbe1fd0b"
      },
      "source": [
        "# get the gradient of the output with respect to the parameters of the model\n",
        "pred[:, 293].backward(retain_graph=True)\n",
        "\n",
        "# pull the gradients out of the model\n",
        "gradients = vgg.get_activations_gradient()\n",
        "\n",
        "# pool the gradients across the channels\n",
        "pooled_gradients = torch.mean(gradients, dim=[0, 2, 3])\n",
        "\n",
        "# get the activations of the last convolutional layer\n",
        "activations = vgg.get_activations(img).detach()\n",
        "\n",
        "# weight the channels by corresponding gradients\n",
        "for i in range(512):\n",
        "    activations[:, i, :, :] *= pooled_gradients[i]\n",
        "    \n",
        "# average the channels of the activations\n",
        "heatmap = torch.mean(activations, dim=1).squeeze()\n",
        "\n",
        "# relu on top of the heatmap\n",
        "# expression (2) in https://arxiv.org/pdf/1610.02391.pdf\n",
        "heatmap = np.maximum(heatmap, 0)\n",
        "\n",
        "# normalize the heatmap\n",
        "heatmap /= torch.max(heatmap)\n",
        "\n",
        "# draw the heatmap\n",
        "plt.matshow(heatmap.squeeze())"
      ],
      "execution_count": 8,
      "outputs": [
        {
          "output_type": "execute_result",
          "data": {
            "text/plain": [
              "<matplotlib.image.AxesImage at 0x7f9f812ff0b8>"
            ]
          },
          "metadata": {
            "tags": []
          },
          "execution_count": 8
        },
        {
          "output_type": "display_data",
          "data": {
            "image/png": "[encoded data removed]",
            "text/plain": [
              "<Figure size 288x288 with 1 Axes>"
            ]
          },
          "metadata": {
            "tags": [],
            "needs_background": "light"
          }
        }
      ]
    },
    {
      "cell_type": "code",
      "metadata": {
        "id": "qBzRJxTzkiMR",
        "colab_type": "code",
        "colab": {
          "base_uri": "https://localhost:8080/",
          "height": 34
        },
        "outputId": "3d9f907e-1828-4828-ee77-c67225fca2d9"
      },
      "source": [
        "import cv2\n",
        "img = cv2.imread('/content/data/animals/animals.jpg')\n",
        "heatmap = cv2.resize(heatmap.numpy(), (img.shape[1], img.shape[0]))\n",
        "heatmap = np.uint8(255 * heatmap)\n",
        "heatmap = cv2.applyColorMap(heatmap, cv2.COLORMAP_JET)\n",
        "superimposed_img = heatmap * 0.4 + img\n",
        "cv2.imwrite('./map.jpg', superimposed_img)"
      ],
      "execution_count": 9,
      "outputs": [
        {
          "output_type": "execute_result",
          "data": {
            "text/plain": [
              "True"
            ]
          },
          "metadata": {
            "tags": []
          },
          "execution_count": 9
        }
      ]
    }
  ]
}